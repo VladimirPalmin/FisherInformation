{
 "cells": [
  {
   "cell_type": "code",
   "execution_count": 1,
   "metadata": {},
   "outputs": [],
   "source": [
    "import numpy as np\n",
    "import matplotlib.pyplot as plt\n",
    "import random\n",
    "from scipy import optimize\n",
    "import plotly.graph_objs as go\n",
    "import numdifftools\n",
    "import lmfit\n",
    "import corner\n",
    "import emcee\n",
    "from scipy import signal"
   ]
  },
  {
   "cell_type": "code",
   "execution_count": 2,
   "metadata": {},
   "outputs": [],
   "source": [
    "def intensity(kinetic_energy, max_energy, Z):\n",
    "    \"\"\"spectrum function\"\"\"\n",
    "    me = 0.511*1000 #keV\n",
    "    return np.sqrt(kinetic_energy**2+2*kinetic_energy*me)*(max_energy - kinetic_energy)**2*(kinetic_energy + me)*Fermi_function(Z, kinetic_energy)\n",
    "\n",
    "def Fermi_function(Z, kinetic_energy):\n",
    "    me = 0.511*1000 #keV\n",
    "    a = 1/137\n",
    "    E = kinetic_energy + me\n",
    "    pc = np.sqrt(E**2 - me**2)\n",
    "    x = Z*a*E/pc\n",
    "    return 2*np.pi*x/(1-np.exp(-2*np.pi*x))"
   ]
  },
  {
   "cell_type": "code",
   "execution_count": 3,
   "metadata": {},
   "outputs": [],
   "source": [
    "def B(x, k, i, t):\n",
    "    \"\"\"\n",
    "    B-spline\n",
    "    t : numpy array\n",
    "      knots\n",
    "    k, i : int\n",
    "      spline number\n",
    "    return: B_ki spline at point x\n",
    "    \"\"\"\n",
    "    if k == 0:\n",
    "        return 1.0 if t[i] <= x < t[i+1] else 0.0\n",
    "    if t[i+k] == t[i]:\n",
    "        c1 = 0.0\n",
    "    else:\n",
    "        c1 = (x - t[i])/(t[i+k] - t[i]) * B(x, k-1, i, t)\n",
    "    if t[i+k+1] == t[i+1]:\n",
    "        c2 = 0.0\n",
    "    else:\n",
    "        c2 = (t[i+k+1] - x)/(t[i+k+1] - t[i+1]) * B(x, k-1, i+1, t)\n",
    "    return c1 + c2\n",
    "\n",
    "\n",
    "\n",
    "def T(x, x_knots, b):\n",
    "    \"\"\"\n",
    "    time strategy\n",
    "    x_knots : numpy array\n",
    "    b : numpy array\n",
    "      weights\n",
    "    return: time at point x\n",
    "    \"\"\"\n",
    "    t = x_knots\n",
    "    T = 1e-19\n",
    "    for i in range(1, len(t)-5):\n",
    "        T += b[i-1]*B(x, 3, i, t)\n",
    "    \n",
    "    return T"
   ]
  },
  {
   "cell_type": "code",
   "execution_count": 4,
   "metadata": {},
   "outputs": [],
   "source": [
    "def experimental_lin(kinetic_energy, max_energy, noise, calibr, lin, Z=2, me=511):\n",
    "    \"\"\"\n",
    "    function for fitting with linear additive\n",
    "    \"\"\"\n",
    "    return calibr*(np.sqrt(kinetic_energy**2+2*kinetic_energy*me)*(max_energy - kinetic_energy)**2*(kinetic_energy + me)*Fermi_function(Z, kinetic_energy) -lin*(max_energy - kinetic_energy)) + noise \n",
    "\n",
    "def intensity_lin(kinetic_energy, max_energy, ampl, Z=2, me=511):\n",
    "    \"\"\"\n",
    "    function for intensity with linear additive\n",
    "    \"\"\"\n",
    "    return np.sqrt(kinetic_energy**2+2*kinetic_energy*me)*(max_energy - kinetic_energy)**2*(kinetic_energy + me)*Fermi_function(Z, kinetic_energy)-ampl*(max_energy - kinetic_energy)"
   ]
  },
  {
   "cell_type": "code",
   "execution_count": 5,
   "metadata": {},
   "outputs": [],
   "source": [
    "def div_max(kinetic_energy, max_energy=18.57, ampl=10**4, Z=2, me=511):\n",
    "    \"\"\"\n",
    "    derivative of max energy parameter \n",
    "    \"\"\"\n",
    "    return np.sqrt(kinetic_energy ** 2 + 2 * kinetic_energy * me) * 2 * (max_energy - kinetic_energy) * (\n",
    "            kinetic_energy + me) * Fermi_function(Z, kinetic_energy) - ampl\n",
    "\n",
    "\n",
    "def div_ampl(kinetic_energy, max_energy=18.57, ampl=10**4, Z=2, me=511):\n",
    "    \"\"\"\n",
    "    derivative of additive amplitude parameter \n",
    "    \"\"\"\n",
    "    return -(max_energy - kinetic_energy)\n",
    "\n",
    "\n",
    "def div_cal(kinetic_energy, max_energy=18.57, ampl=10**4, Z=2, me=511):\n",
    "    \"\"\"\n",
    "    derivative of calibration parameter \n",
    "    \"\"\"\n",
    "    return np.sqrt(kinetic_energy ** 2 + 2 * kinetic_energy * me) * (max_energy - kinetic_energy) ** 2 * (\n",
    "            kinetic_energy + me) * Fermi_function(Z, kinetic_energy) -ampl*(max_energy - kinetic_energy)\n",
    "\n",
    "\n",
    "#derivative of noise is equal to one\n",
    "\n",
    "\n",
    "def apriori(theta, theta0, sigma):\n",
    "    \"\"\"\n",
    "    aprior information about maximum energy\n",
    "    theta : double\n",
    "    theta0 : double\n",
    "    sigma : double\n",
    "    \"\"\"\n",
    "    return (theta - theta0)**2/sigma**4 \n",
    "\n",
    "\n",
    "def inversed_fisher_information_postorerior(b, x_knots, derivatives, KEs, dist, sigma, parameter_number):\n",
    "    \"\"\"\n",
    "    inverse fisher infromation matrix\n",
    "    x_knots : numpy array\n",
    "    derivatives : numpy array\n",
    "      array of derivatives\n",
    "    dist : numpy array\n",
    "      intensity array\n",
    "    normolize : double\n",
    "      area normalization (as not to change the total time)\n",
    "    return: max energy sigma\n",
    "    \"\"\"\n",
    "    time = np.array([T(x, x_knots, b) for x in KEs])\n",
    "    summ = np.sum(time)\n",
    "    b0 = np.ones(len(x_knots) - 6)\n",
    "    y0 = np.array([T(x, x_knots, b0) for x in KEs])\n",
    "    normolize = np.sum(y0)\n",
    "    time = time * normolize / summ\n",
    "    length = len(derivatives)\n",
    "    FIM = np.zeros((length, length))\n",
    "    delta = np.zeros((length, length))\n",
    "    for i in range(length):\n",
    "        for j in range(length):\n",
    "            FIM[i][j] = np.sum(time*derivatives[i]*derivatives[j]/dist)\n",
    "    \n",
    "    FIM[parameter_number][parameter_number] = FIM[parameter_number][parameter_number] + 1/sigma**2\n",
    "    return np.sqrt(np.linalg.inv(FIM)[0][0])\n",
    "    #delta[0][0] = aprior\n",
    "    #FIM_inversed = np.linalg.inv(FIM)\n",
    "    #if np.linalg.norm(FIM_inversed*delta) < 1:\n",
    "     #   inversed = FIM_inversed - np.dot(np.dot(FIM_inversed, delta), FIM_inversed)\n",
    "      #  return np.sqrt(inversed[0][0])\n",
    "    #else:\n",
    "     #   print(\"Singular matrix: norm > 1\")"
   ]
  },
  {
   "cell_type": "code",
   "execution_count": 6,
   "metadata": {},
   "outputs": [],
   "source": [
    "max_energy = 18.57 \n",
    "n = 1000 # number of points\n",
    "KEs = np.linspace(0.001, max_energy - 0.2, n) #kinetic energies \n",
    "\n",
    "derivatives = np.array([div_max(KEs), np.ones(len(KEs)), div_cal(KEs), div_ampl(KEs)]) \n",
    "dist = intensity_lin(KEs, max_energy, 10 ** 4) #intensity\n",
    "a = 0 #start of grid\n",
    "b = max_energy #end of grid\n",
    "x_knots = np.concatenate([np.linspace(a-2, a-0.5, 3), np.linspace(a, b, 10), np.linspace(b + 1.5, b + 3.5, 3)])\n",
    "b0 = np.ones(len(x_knots) - 6) #initial weights\n",
    "bl = tuple(np.zeros(len(x_knots) - 6)) #lower bound\n",
    "bw = tuple(np.ones(len(x_knots) - 6)*50) #upper bound\n",
    "bnds = optimize.Bounds(bl, bw) #bounds"
   ]
  },
  {
   "cell_type": "code",
   "execution_count": 7,
   "metadata": {},
   "outputs": [],
   "source": [
    "bo = [3.44899946, 0.        , 0.        , 0.        , 0.        ,\n",
    "       1.31942577, 1.37361597, 0.        , 0.        , 0.36451806]\n",
    "bao = [4.25735772, 0.        , 0.        , 0.        , 2.19992923,\n",
    "       0.70822065, 0.        , 0.        , 0.        , 0.17843025]"
   ]
  },
  {
   "cell_type": "code",
   "execution_count": 8,
   "metadata": {},
   "outputs": [
    {
     "name": "stdout",
     "output_type": "stream",
     "text": [
      "0\n",
      "initial\n",
      "0.0001897295634000577\n",
      "0.000282585168494957\n",
      "optimal\n",
      "0.00014890296620367118\n",
      "0.00018304865327578468\n",
      "improvment\n",
      "1.2741825649097107\n",
      "1.5437708141409194\n",
      "1\n",
      "initial\n",
      "0.0002824636186174688\n",
      "0.0002825851685121572\n",
      "optimal\n",
      "0.00018241465112499186\n",
      "0.00018304865328037877\n",
      "improvment\n",
      "1.5484700207765805\n",
      "1.5437708141961397\n",
      "2\n",
      "initial\n",
      "0.0002741497676984359\n",
      "0.0002825851685111265\n",
      "optimal\n",
      "0.00018242995460835952\n",
      "0.0001830486532803703\n",
      "improvment\n",
      "1.5027672855972607\n",
      "1.5437708141905804\n",
      "3\n",
      "initial\n",
      "0.00025567780881865555\n",
      "0.00028258516850871546\n",
      "optimal\n",
      "0.0001794496572627757\n",
      "0.00018304865328000542\n",
      "improvment\n",
      "1.4247885045790627\n",
      "1.543770814180486\n"
     ]
    }
   ],
   "source": [
    "#sigma = 7.60269049e-05\n",
    "#parameter_number = 2\n",
    "\n",
    "for parameter_number, sigma in enumerate([2.56014500e-04, 5.24724808e+01, 1.30420671e-04, 1.01301596e+02]):\n",
    "    print(parameter_number)\n",
    "    print('initial')\n",
    "    print(inversed_fisher_information_postorerior(b0, x_knots, derivatives, KEs, dist, sigma, parameter_number))\n",
    "    print(inversed_fisher_information_postorerior(b0, x_knots, derivatives, KEs, dist, sigma*10**5, parameter_number))\n",
    "\n",
    "    print('optimal')\n",
    "    print(inversed_fisher_information_postorerior(bo, x_knots, derivatives, KEs, dist, sigma, parameter_number))\n",
    "    print(inversed_fisher_information_postorerior(bo, x_knots, derivatives, KEs, dist, sigma*10**5, parameter_number))\n",
    "\n",
    "    print('improvment')\n",
    "    print(inversed_fisher_information_postorerior(b0, x_knots, derivatives, KEs, dist, sigma, parameter_number)/inversed_fisher_information_postorerior(bo, x_knots, derivatives, KEs, dist, sigma, parameter_number))\n",
    "    print(inversed_fisher_information_postorerior(b0, x_knots, derivatives, KEs, dist, sigma*10**5, parameter_number)/inversed_fisher_information_postorerior(bo, x_knots, derivatives, KEs, dist, sigma*10**5, parameter_number))"
   ]
  },
  {
   "cell_type": "code",
   "execution_count": 27,
   "metadata": {},
   "outputs": [
    {
     "name": "stderr",
     "output_type": "stream",
     "text": [
      "<ipython-input-27-f56a90b6b510>:1: OptimizeWarning: Unknown solver options: maxfev\n",
      "  optimize.minimize(inversed_fisher_information_postorerior, x0=bo, args=(x_knots, derivatives, KEs, dist, max_energy_error), method='L-BFGS-B', bounds=bnds, options={'maxfev':5000 ,'maxiter':5000})\n"
     ]
    },
    {
     "data": {
      "text/plain": [
       "      fun: 2.1542803750084065\n",
       " hess_inv: <10x10 LbfgsInvHessProduct with dtype=float64>\n",
       "      jac: array([ 1.64313009e-06,  6.30200336e-02,  7.09790449e-02,  2.71375367e-02,\n",
       "       -2.08721930e-06, -8.88178415e-08,  2.18012719e-02,  5.62938585e-02,\n",
       "        6.50520082e-02, -5.99520434e-06])\n",
       "  message: b'CONVERGENCE: NORM_OF_PROJECTED_GRADIENT_<=_PGTOL'\n",
       "     nfev: 132\n",
       "      nit: 11\n",
       "     njev: 12\n",
       "   status: 0\n",
       "  success: True\n",
       "        x: array([5.7484275 , 0.        , 0.        , 0.        , 2.97029127,\n",
       "       0.95629418, 0.        , 0.        , 0.        , 0.24090077])"
      ]
     },
     "execution_count": 27,
     "metadata": {},
     "output_type": "execute_result"
    }
   ],
   "source": [
    "optimize.minimize(inversed_fisher_information_postorerior, x0=b0, args=(x_knots, derivatives, KEs, dist, max_energy_error), method='L-BFGS-B', bounds=bnds, options={'maxfev':5000 ,'maxiter':5000})"
   ]
  },
  {
   "cell_type": "code",
   "execution_count": 63,
   "metadata": {
    "scrolled": true
   },
   "outputs": [
    {
     "name": "stdout",
     "output_type": "stream",
     "text": [
      "0.00023758708910220428 18.569681\n",
      "0.00023990703050363166 18.569682616161614\n",
      "0.00024219313601732298 18.569684232323233\n",
      "0.00024444635495281676 18.56968584848485\n",
      "0.00024666758853756656 18.569687464646464\n",
      "0.00024885769324970613 18.56968908080808\n",
      "0.00025101748388501807 18.569690696969698\n",
      "0.0002531477363307702 18.569692313131313\n",
      "0.00025524919014999404 18.569693929292928\n",
      "0.00025732255090541383 18.569695545454543\n",
      "0.0002593684923201645 18.569697161616162\n",
      "0.000261387658238636 18.569698777777777\n",
      "0.0002633806644762054 18.569700393939392\n",
      "0.00026534810048701004 18.56970201010101\n",
      "0.00026729053090469775 18.569703626262626\n",
      "0.0002692084970055232 18.56970524242424\n",
      "0.00027110251802231066 18.569706858585857\n",
      "0.00027297309238776555 18.569708474747475\n",
      "0.0002748206988649241 18.56971009090909\n",
      "0.00027664579763820343 18.569711707070706\n",
      "0.0002784488312896234 18.56971332323232\n",
      "0.0002802302257320307 18.56971493939394\n",
      "0.0002819903910566909 18.569716555555555\n",
      "0.0002837297223630138 18.56971817171717\n",
      "0.00028544860050039056 18.56971978787879\n",
      "0.00028714739276253275 18.569721404040404\n",
      "0.0002888264535710255 18.56972302020202\n",
      "0.00029048612507987035 18.569724636363635\n",
      "0.0002921267377644884 18.569726252525253\n",
      "0.0002937486109536958 18.56972786868687\n",
      "0.0002953520533650243 18.569729484848484\n",
      "0.00029693736357362194 18.5697311010101\n",
      "0.00029850483047452156 18.569732717171718\n",
      "0.0003000547336979394 18.569734333333333\n",
      "0.0003015873440346372 18.569735949494948\n",
      "0.0003031029238074208 18.569737565656567\n",
      "0.0003046017272221772 18.569739181818182\n",
      "0.00030608400072899437 18.569740797979797\n",
      "0.00030754998333150206 18.569742414141412\n",
      "0.0003089999068988745 18.56974403030303\n",
      "0.00031043399644248786 18.569745646464646\n",
      "0.0003118524704093312 18.56974726262626\n",
      "0.00031325554092937906 18.569748878787877\n",
      "0.0003146434140687347 18.569750494949496\n",
      "0.00031601629005193 18.56975211111111\n",
      "0.00031737436350302254 18.569753727272726\n",
      "0.0003187178236481151 18.569755343434345\n",
      "0.0003200468545081413 18.56975695959596\n",
      "0.0003213616351083723 18.569758575757575\n",
      "0.0003226623396492139 18.56976019191919\n",
      "0.0003239491376860145 18.56976180808081\n",
      "0.00032522219428368 18.569763424242424\n",
      "0.00032648167019187736 18.56976504040404\n",
      "0.00032772772198468464 18.569766656565655\n",
      "0.0003289605022102865 18.569768272727273\n",
      "0.00033018015951785787 18.56976988888889\n",
      "0.0003313868388054044 18.569771505050504\n",
      "0.0003325806813373008 18.569773121212123\n",
      "0.00033376182485686626 18.569774737373738\n",
      "0.00033493040371724176 18.569776353535353\n",
      "0.00033608654898107786 18.56977796969697\n",
      "0.0003372303885312236 18.569779585858587\n",
      "0.0003383620471618192 18.569781202020202\n",
      "0.00033948164669030513 18.569782818181817\n",
      "0.0003405893060402689 18.569784434343433\n",
      "0.0003416851413355092 18.56978605050505\n",
      "0.0003427692659759608 18.569787666666667\n",
      "0.000343841790734253 18.569789282828282\n",
      "0.00034490282382721046 18.5697908989899\n",
      "0.0003459524709847061 18.569792515151516\n",
      "0.0003469908355364315 18.56979413131313\n",
      "0.00034801801847249894 18.569795747474746\n",
      "0.00034903411851527633 18.569797363636365\n",
      "0.00035003923217518203 18.56979897979798\n",
      "0.0003510334538263452 18.569800595959595\n",
      "0.0003520168757575714 18.56980221212121\n",
      "0.0003529895882344099 18.56980382828283\n",
      "0.00035395167954618915 18.569805444444444\n",
      "0.0003549032360723764 18.56980706060606\n",
      "0.0003558443423276428 18.56980867676768\n",
      "0.00035677508100548534 18.569810292929294\n",
      "0.0003576955330385822 18.56981190909091\n",
      "0.00035860577763673453 18.569813525252524\n",
      "0.0003595058923355224 18.569815141414143\n",
      "0.00036039595303145834 18.569816757575758\n",
      "0.00036127603403540736 18.569818373737373\n",
      "0.00036214620810476447 18.56981998989899\n",
      "0.00036300654648606265 18.569821606060607\n",
      "0.00036385711894484864 18.569823222222222\n",
      "0.0003646979938131828 18.569824838383838\n",
      "0.00036552923801880726 18.569826454545456\n",
      "0.00036635091711353164 18.56982807070707\n",
      "0.00036716309531684745 18.569829686868687\n",
      "0.00036796583554017334 18.569831303030302\n"
     ]
    },
    {
     "ename": "KeyboardInterrupt",
     "evalue": "",
     "output_type": "error",
     "traceback": [
      "\u001b[1;31m---------------------------------------------------------------------------\u001b[0m",
      "\u001b[1;31mKeyboardInterrupt\u001b[0m                         Traceback (most recent call last)",
      "\u001b[1;32m<ipython-input-63-699e8bbc676e>\u001b[0m in \u001b[0;36m<module>\u001b[1;34m\u001b[0m\n\u001b[0;32m      1\u001b[0m \u001b[0ma\u001b[0m \u001b[1;33m=\u001b[0m \u001b[0mnp\u001b[0m\u001b[1;33m.\u001b[0m\u001b[0mzeros\u001b[0m\u001b[1;33m(\u001b[0m\u001b[1;36m100\u001b[0m\u001b[1;33m)\u001b[0m\u001b[1;33m\u001b[0m\u001b[1;33m\u001b[0m\u001b[0m\n\u001b[0;32m      2\u001b[0m \u001b[1;32mfor\u001b[0m \u001b[0mi\u001b[0m \u001b[1;32min\u001b[0m \u001b[0mnp\u001b[0m\u001b[1;33m.\u001b[0m\u001b[0mlinspace\u001b[0m\u001b[1;33m(\u001b[0m\u001b[1;36m18.569681\u001b[0m\u001b[1;33m,\u001b[0m \u001b[1;36m18.569841\u001b[0m\u001b[1;33m,\u001b[0m \u001b[1;36m100\u001b[0m\u001b[1;33m)\u001b[0m\u001b[1;33m:\u001b[0m\u001b[1;33m\u001b[0m\u001b[1;33m\u001b[0m\u001b[0m\n\u001b[1;32m----> 3\u001b[1;33m     \u001b[0mprint\u001b[0m\u001b[1;33m(\u001b[0m\u001b[0minversed_fisher_information_postorerior\u001b[0m\u001b[1;33m(\u001b[0m\u001b[0mb0\u001b[0m\u001b[1;33m,\u001b[0m \u001b[0mx_knots\u001b[0m\u001b[1;33m,\u001b[0m \u001b[0mderivatives\u001b[0m\u001b[1;33m,\u001b[0m \u001b[0mKEs\u001b[0m\u001b[1;33m,\u001b[0m \u001b[0mdist\u001b[0m\u001b[1;33m,\u001b[0m \u001b[0mapriori\u001b[0m\u001b[1;33m(\u001b[0m\u001b[0mmax_energy\u001b[0m\u001b[1;33m,\u001b[0m \u001b[0mi\u001b[0m\u001b[1;33m,\u001b[0m \u001b[1;36m0.0004\u001b[0m\u001b[1;33m)\u001b[0m\u001b[1;33m)\u001b[0m\u001b[1;33m,\u001b[0m \u001b[0mi\u001b[0m\u001b[1;33m)\u001b[0m\u001b[1;33m\u001b[0m\u001b[1;33m\u001b[0m\u001b[0m\n\u001b[0m",
      "\u001b[1;32m<ipython-input-33-e8a4de42beba>\u001b[0m in \u001b[0;36minversed_fisher_information_postorerior\u001b[1;34m(b, x_knots, derivatives, KEs, dist, aprior)\u001b[0m\n\u001b[0;32m     50\u001b[0m     \u001b[0msumm\u001b[0m \u001b[1;33m=\u001b[0m \u001b[0mnp\u001b[0m\u001b[1;33m.\u001b[0m\u001b[0msum\u001b[0m\u001b[1;33m(\u001b[0m\u001b[0mtime\u001b[0m\u001b[1;33m)\u001b[0m\u001b[1;33m\u001b[0m\u001b[1;33m\u001b[0m\u001b[0m\n\u001b[0;32m     51\u001b[0m     \u001b[0mb0\u001b[0m \u001b[1;33m=\u001b[0m \u001b[0mnp\u001b[0m\u001b[1;33m.\u001b[0m\u001b[0mones\u001b[0m\u001b[1;33m(\u001b[0m\u001b[0mlen\u001b[0m\u001b[1;33m(\u001b[0m\u001b[0mx_knots\u001b[0m\u001b[1;33m)\u001b[0m \u001b[1;33m-\u001b[0m \u001b[1;36m6\u001b[0m\u001b[1;33m)\u001b[0m\u001b[1;33m\u001b[0m\u001b[1;33m\u001b[0m\u001b[0m\n\u001b[1;32m---> 52\u001b[1;33m     \u001b[0my0\u001b[0m \u001b[1;33m=\u001b[0m \u001b[0mnp\u001b[0m\u001b[1;33m.\u001b[0m\u001b[0marray\u001b[0m\u001b[1;33m(\u001b[0m\u001b[1;33m[\u001b[0m\u001b[0mT\u001b[0m\u001b[1;33m(\u001b[0m\u001b[0mx\u001b[0m\u001b[1;33m,\u001b[0m \u001b[0mx_knots\u001b[0m\u001b[1;33m,\u001b[0m \u001b[0mb0\u001b[0m\u001b[1;33m)\u001b[0m \u001b[1;32mfor\u001b[0m \u001b[0mx\u001b[0m \u001b[1;32min\u001b[0m \u001b[0mKEs\u001b[0m\u001b[1;33m]\u001b[0m\u001b[1;33m)\u001b[0m\u001b[1;33m\u001b[0m\u001b[1;33m\u001b[0m\u001b[0m\n\u001b[0m\u001b[0;32m     53\u001b[0m     \u001b[0mnormolize\u001b[0m \u001b[1;33m=\u001b[0m \u001b[0mnp\u001b[0m\u001b[1;33m.\u001b[0m\u001b[0msum\u001b[0m\u001b[1;33m(\u001b[0m\u001b[0my0\u001b[0m\u001b[1;33m)\u001b[0m\u001b[1;33m\u001b[0m\u001b[1;33m\u001b[0m\u001b[0m\n\u001b[0;32m     54\u001b[0m     \u001b[0mtime\u001b[0m \u001b[1;33m=\u001b[0m \u001b[0mtime\u001b[0m \u001b[1;33m*\u001b[0m \u001b[0mnormolize\u001b[0m \u001b[1;33m/\u001b[0m \u001b[0msumm\u001b[0m\u001b[1;33m\u001b[0m\u001b[1;33m\u001b[0m\u001b[0m\n",
      "\u001b[1;32m<ipython-input-33-e8a4de42beba>\u001b[0m in \u001b[0;36m<listcomp>\u001b[1;34m(.0)\u001b[0m\n\u001b[0;32m     50\u001b[0m     \u001b[0msumm\u001b[0m \u001b[1;33m=\u001b[0m \u001b[0mnp\u001b[0m\u001b[1;33m.\u001b[0m\u001b[0msum\u001b[0m\u001b[1;33m(\u001b[0m\u001b[0mtime\u001b[0m\u001b[1;33m)\u001b[0m\u001b[1;33m\u001b[0m\u001b[1;33m\u001b[0m\u001b[0m\n\u001b[0;32m     51\u001b[0m     \u001b[0mb0\u001b[0m \u001b[1;33m=\u001b[0m \u001b[0mnp\u001b[0m\u001b[1;33m.\u001b[0m\u001b[0mones\u001b[0m\u001b[1;33m(\u001b[0m\u001b[0mlen\u001b[0m\u001b[1;33m(\u001b[0m\u001b[0mx_knots\u001b[0m\u001b[1;33m)\u001b[0m \u001b[1;33m-\u001b[0m \u001b[1;36m6\u001b[0m\u001b[1;33m)\u001b[0m\u001b[1;33m\u001b[0m\u001b[1;33m\u001b[0m\u001b[0m\n\u001b[1;32m---> 52\u001b[1;33m     \u001b[0my0\u001b[0m \u001b[1;33m=\u001b[0m \u001b[0mnp\u001b[0m\u001b[1;33m.\u001b[0m\u001b[0marray\u001b[0m\u001b[1;33m(\u001b[0m\u001b[1;33m[\u001b[0m\u001b[0mT\u001b[0m\u001b[1;33m(\u001b[0m\u001b[0mx\u001b[0m\u001b[1;33m,\u001b[0m \u001b[0mx_knots\u001b[0m\u001b[1;33m,\u001b[0m \u001b[0mb0\u001b[0m\u001b[1;33m)\u001b[0m \u001b[1;32mfor\u001b[0m \u001b[0mx\u001b[0m \u001b[1;32min\u001b[0m \u001b[0mKEs\u001b[0m\u001b[1;33m]\u001b[0m\u001b[1;33m)\u001b[0m\u001b[1;33m\u001b[0m\u001b[1;33m\u001b[0m\u001b[0m\n\u001b[0m\u001b[0;32m     53\u001b[0m     \u001b[0mnormolize\u001b[0m \u001b[1;33m=\u001b[0m \u001b[0mnp\u001b[0m\u001b[1;33m.\u001b[0m\u001b[0msum\u001b[0m\u001b[1;33m(\u001b[0m\u001b[0my0\u001b[0m\u001b[1;33m)\u001b[0m\u001b[1;33m\u001b[0m\u001b[1;33m\u001b[0m\u001b[0m\n\u001b[0;32m     54\u001b[0m     \u001b[0mtime\u001b[0m \u001b[1;33m=\u001b[0m \u001b[0mtime\u001b[0m \u001b[1;33m*\u001b[0m \u001b[0mnormolize\u001b[0m \u001b[1;33m/\u001b[0m \u001b[0msumm\u001b[0m\u001b[1;33m\u001b[0m\u001b[1;33m\u001b[0m\u001b[0m\n",
      "\u001b[1;32m<ipython-input-3-75bc7d489edb>\u001b[0m in \u001b[0;36mT\u001b[1;34m(x, x_knots, b)\u001b[0m\n\u001b[0;32m     33\u001b[0m     \u001b[0mT\u001b[0m \u001b[1;33m=\u001b[0m \u001b[1;36m1e-19\u001b[0m\u001b[1;33m\u001b[0m\u001b[1;33m\u001b[0m\u001b[0m\n\u001b[0;32m     34\u001b[0m     \u001b[1;32mfor\u001b[0m \u001b[0mi\u001b[0m \u001b[1;32min\u001b[0m \u001b[0mrange\u001b[0m\u001b[1;33m(\u001b[0m\u001b[1;36m1\u001b[0m\u001b[1;33m,\u001b[0m \u001b[0mlen\u001b[0m\u001b[1;33m(\u001b[0m\u001b[0mt\u001b[0m\u001b[1;33m)\u001b[0m\u001b[1;33m-\u001b[0m\u001b[1;36m5\u001b[0m\u001b[1;33m)\u001b[0m\u001b[1;33m:\u001b[0m\u001b[1;33m\u001b[0m\u001b[1;33m\u001b[0m\u001b[0m\n\u001b[1;32m---> 35\u001b[1;33m         \u001b[0mT\u001b[0m \u001b[1;33m+=\u001b[0m \u001b[0mb\u001b[0m\u001b[1;33m[\u001b[0m\u001b[0mi\u001b[0m\u001b[1;33m-\u001b[0m\u001b[1;36m1\u001b[0m\u001b[1;33m]\u001b[0m\u001b[1;33m*\u001b[0m\u001b[0mB\u001b[0m\u001b[1;33m(\u001b[0m\u001b[0mx\u001b[0m\u001b[1;33m,\u001b[0m \u001b[1;36m3\u001b[0m\u001b[1;33m,\u001b[0m \u001b[0mi\u001b[0m\u001b[1;33m,\u001b[0m \u001b[0mt\u001b[0m\u001b[1;33m)\u001b[0m\u001b[1;33m\u001b[0m\u001b[1;33m\u001b[0m\u001b[0m\n\u001b[0m\u001b[0;32m     36\u001b[0m \u001b[1;33m\u001b[0m\u001b[0m\n\u001b[0;32m     37\u001b[0m     \u001b[1;32mreturn\u001b[0m \u001b[0mT\u001b[0m\u001b[1;33m\u001b[0m\u001b[1;33m\u001b[0m\u001b[0m\n",
      "\u001b[1;32m<ipython-input-3-75bc7d489edb>\u001b[0m in \u001b[0;36mB\u001b[1;34m(x, k, i, t)\u001b[0m\n\u001b[0;32m     13\u001b[0m         \u001b[0mc1\u001b[0m \u001b[1;33m=\u001b[0m \u001b[1;36m0.0\u001b[0m\u001b[1;33m\u001b[0m\u001b[1;33m\u001b[0m\u001b[0m\n\u001b[0;32m     14\u001b[0m     \u001b[1;32melse\u001b[0m\u001b[1;33m:\u001b[0m\u001b[1;33m\u001b[0m\u001b[1;33m\u001b[0m\u001b[0m\n\u001b[1;32m---> 15\u001b[1;33m         \u001b[0mc1\u001b[0m \u001b[1;33m=\u001b[0m \u001b[1;33m(\u001b[0m\u001b[0mx\u001b[0m \u001b[1;33m-\u001b[0m \u001b[0mt\u001b[0m\u001b[1;33m[\u001b[0m\u001b[0mi\u001b[0m\u001b[1;33m]\u001b[0m\u001b[1;33m)\u001b[0m\u001b[1;33m/\u001b[0m\u001b[1;33m(\u001b[0m\u001b[0mt\u001b[0m\u001b[1;33m[\u001b[0m\u001b[0mi\u001b[0m\u001b[1;33m+\u001b[0m\u001b[0mk\u001b[0m\u001b[1;33m]\u001b[0m \u001b[1;33m-\u001b[0m \u001b[0mt\u001b[0m\u001b[1;33m[\u001b[0m\u001b[0mi\u001b[0m\u001b[1;33m]\u001b[0m\u001b[1;33m)\u001b[0m \u001b[1;33m*\u001b[0m \u001b[0mB\u001b[0m\u001b[1;33m(\u001b[0m\u001b[0mx\u001b[0m\u001b[1;33m,\u001b[0m \u001b[0mk\u001b[0m\u001b[1;33m-\u001b[0m\u001b[1;36m1\u001b[0m\u001b[1;33m,\u001b[0m \u001b[0mi\u001b[0m\u001b[1;33m,\u001b[0m \u001b[0mt\u001b[0m\u001b[1;33m)\u001b[0m\u001b[1;33m\u001b[0m\u001b[1;33m\u001b[0m\u001b[0m\n\u001b[0m\u001b[0;32m     16\u001b[0m     \u001b[1;32mif\u001b[0m \u001b[0mt\u001b[0m\u001b[1;33m[\u001b[0m\u001b[0mi\u001b[0m\u001b[1;33m+\u001b[0m\u001b[0mk\u001b[0m\u001b[1;33m+\u001b[0m\u001b[1;36m1\u001b[0m\u001b[1;33m]\u001b[0m \u001b[1;33m==\u001b[0m \u001b[0mt\u001b[0m\u001b[1;33m[\u001b[0m\u001b[0mi\u001b[0m\u001b[1;33m+\u001b[0m\u001b[1;36m1\u001b[0m\u001b[1;33m]\u001b[0m\u001b[1;33m:\u001b[0m\u001b[1;33m\u001b[0m\u001b[1;33m\u001b[0m\u001b[0m\n\u001b[0;32m     17\u001b[0m         \u001b[0mc2\u001b[0m \u001b[1;33m=\u001b[0m \u001b[1;36m0.0\u001b[0m\u001b[1;33m\u001b[0m\u001b[1;33m\u001b[0m\u001b[0m\n",
      "\u001b[1;32m<ipython-input-3-75bc7d489edb>\u001b[0m in \u001b[0;36mB\u001b[1;34m(x, k, i, t)\u001b[0m\n\u001b[0;32m     13\u001b[0m         \u001b[0mc1\u001b[0m \u001b[1;33m=\u001b[0m \u001b[1;36m0.0\u001b[0m\u001b[1;33m\u001b[0m\u001b[1;33m\u001b[0m\u001b[0m\n\u001b[0;32m     14\u001b[0m     \u001b[1;32melse\u001b[0m\u001b[1;33m:\u001b[0m\u001b[1;33m\u001b[0m\u001b[1;33m\u001b[0m\u001b[0m\n\u001b[1;32m---> 15\u001b[1;33m         \u001b[0mc1\u001b[0m \u001b[1;33m=\u001b[0m \u001b[1;33m(\u001b[0m\u001b[0mx\u001b[0m \u001b[1;33m-\u001b[0m \u001b[0mt\u001b[0m\u001b[1;33m[\u001b[0m\u001b[0mi\u001b[0m\u001b[1;33m]\u001b[0m\u001b[1;33m)\u001b[0m\u001b[1;33m/\u001b[0m\u001b[1;33m(\u001b[0m\u001b[0mt\u001b[0m\u001b[1;33m[\u001b[0m\u001b[0mi\u001b[0m\u001b[1;33m+\u001b[0m\u001b[0mk\u001b[0m\u001b[1;33m]\u001b[0m \u001b[1;33m-\u001b[0m \u001b[0mt\u001b[0m\u001b[1;33m[\u001b[0m\u001b[0mi\u001b[0m\u001b[1;33m]\u001b[0m\u001b[1;33m)\u001b[0m \u001b[1;33m*\u001b[0m \u001b[0mB\u001b[0m\u001b[1;33m(\u001b[0m\u001b[0mx\u001b[0m\u001b[1;33m,\u001b[0m \u001b[0mk\u001b[0m\u001b[1;33m-\u001b[0m\u001b[1;36m1\u001b[0m\u001b[1;33m,\u001b[0m \u001b[0mi\u001b[0m\u001b[1;33m,\u001b[0m \u001b[0mt\u001b[0m\u001b[1;33m)\u001b[0m\u001b[1;33m\u001b[0m\u001b[1;33m\u001b[0m\u001b[0m\n\u001b[0m\u001b[0;32m     16\u001b[0m     \u001b[1;32mif\u001b[0m \u001b[0mt\u001b[0m\u001b[1;33m[\u001b[0m\u001b[0mi\u001b[0m\u001b[1;33m+\u001b[0m\u001b[0mk\u001b[0m\u001b[1;33m+\u001b[0m\u001b[1;36m1\u001b[0m\u001b[1;33m]\u001b[0m \u001b[1;33m==\u001b[0m \u001b[0mt\u001b[0m\u001b[1;33m[\u001b[0m\u001b[0mi\u001b[0m\u001b[1;33m+\u001b[0m\u001b[1;36m1\u001b[0m\u001b[1;33m]\u001b[0m\u001b[1;33m:\u001b[0m\u001b[1;33m\u001b[0m\u001b[1;33m\u001b[0m\u001b[0m\n\u001b[0;32m     17\u001b[0m         \u001b[0mc2\u001b[0m \u001b[1;33m=\u001b[0m \u001b[1;36m0.0\u001b[0m\u001b[1;33m\u001b[0m\u001b[1;33m\u001b[0m\u001b[0m\n",
      "\u001b[1;32m<ipython-input-3-75bc7d489edb>\u001b[0m in \u001b[0;36mB\u001b[1;34m(x, k, i, t)\u001b[0m\n\u001b[0;32m     13\u001b[0m         \u001b[0mc1\u001b[0m \u001b[1;33m=\u001b[0m \u001b[1;36m0.0\u001b[0m\u001b[1;33m\u001b[0m\u001b[1;33m\u001b[0m\u001b[0m\n\u001b[0;32m     14\u001b[0m     \u001b[1;32melse\u001b[0m\u001b[1;33m:\u001b[0m\u001b[1;33m\u001b[0m\u001b[1;33m\u001b[0m\u001b[0m\n\u001b[1;32m---> 15\u001b[1;33m         \u001b[0mc1\u001b[0m \u001b[1;33m=\u001b[0m \u001b[1;33m(\u001b[0m\u001b[0mx\u001b[0m \u001b[1;33m-\u001b[0m \u001b[0mt\u001b[0m\u001b[1;33m[\u001b[0m\u001b[0mi\u001b[0m\u001b[1;33m]\u001b[0m\u001b[1;33m)\u001b[0m\u001b[1;33m/\u001b[0m\u001b[1;33m(\u001b[0m\u001b[0mt\u001b[0m\u001b[1;33m[\u001b[0m\u001b[0mi\u001b[0m\u001b[1;33m+\u001b[0m\u001b[0mk\u001b[0m\u001b[1;33m]\u001b[0m \u001b[1;33m-\u001b[0m \u001b[0mt\u001b[0m\u001b[1;33m[\u001b[0m\u001b[0mi\u001b[0m\u001b[1;33m]\u001b[0m\u001b[1;33m)\u001b[0m \u001b[1;33m*\u001b[0m \u001b[0mB\u001b[0m\u001b[1;33m(\u001b[0m\u001b[0mx\u001b[0m\u001b[1;33m,\u001b[0m \u001b[0mk\u001b[0m\u001b[1;33m-\u001b[0m\u001b[1;36m1\u001b[0m\u001b[1;33m,\u001b[0m \u001b[0mi\u001b[0m\u001b[1;33m,\u001b[0m \u001b[0mt\u001b[0m\u001b[1;33m)\u001b[0m\u001b[1;33m\u001b[0m\u001b[1;33m\u001b[0m\u001b[0m\n\u001b[0m\u001b[0;32m     16\u001b[0m     \u001b[1;32mif\u001b[0m \u001b[0mt\u001b[0m\u001b[1;33m[\u001b[0m\u001b[0mi\u001b[0m\u001b[1;33m+\u001b[0m\u001b[0mk\u001b[0m\u001b[1;33m+\u001b[0m\u001b[1;36m1\u001b[0m\u001b[1;33m]\u001b[0m \u001b[1;33m==\u001b[0m \u001b[0mt\u001b[0m\u001b[1;33m[\u001b[0m\u001b[0mi\u001b[0m\u001b[1;33m+\u001b[0m\u001b[1;36m1\u001b[0m\u001b[1;33m]\u001b[0m\u001b[1;33m:\u001b[0m\u001b[1;33m\u001b[0m\u001b[1;33m\u001b[0m\u001b[0m\n\u001b[0;32m     17\u001b[0m         \u001b[0mc2\u001b[0m \u001b[1;33m=\u001b[0m \u001b[1;36m0.0\u001b[0m\u001b[1;33m\u001b[0m\u001b[1;33m\u001b[0m\u001b[0m\n",
      "\u001b[1;31mKeyboardInterrupt\u001b[0m: "
     ]
    }
   ],
   "source": [
    "a = np.zeros(100)\n",
    "for i in np.linspace(18.569691, 18.569841, 100):\n",
    "    print(inversed_fisher_information_postorerior(b0, x_knots, derivatives, KEs, dist, apriori(max_energy, i, 0.0004)), i)"
   ]
  },
  {
   "cell_type": "code",
   "execution_count": 69,
   "metadata": {},
   "outputs": [
    {
     "data": {
      "text/plain": [
       "0.00027842306698046385"
      ]
     },
     "execution_count": 69,
     "metadata": {},
     "output_type": "execute_result"
    }
   ],
   "source": [
    "inversed_fisher_information_postorerior(b0, x_knots, derivatives, KEs, dist, apriori(max_energy, 18.5697133, 0.0004))"
   ]
  },
  {
   "cell_type": "code",
   "execution_count": 65,
   "metadata": {},
   "outputs": [
    {
     "data": {
      "text/plain": [
       "-2.530000000078303e-05"
      ]
     },
     "execution_count": 65,
     "metadata": {},
     "output_type": "execute_result"
    }
   ],
   "source": [
    "18.569688 - 18.5697133"
   ]
  },
  {
   "cell_type": "code",
   "execution_count": 417,
   "metadata": {
    "scrolled": true
   },
   "outputs": [],
   "source": [
    "n = 100\n",
    "apriors = np.linspace(0.*10**6, 4.*10**6, n)\n",
    "sigmas = np.zeros(n)\n",
    "for j, aprior in enumerate(apriors):\n",
    "    sigmas[j] = inversed_fisher_information_postorerior(b1, x_knots, derivatives, KEs, dist, aprior)\n",
    "    #opt = optimize.minimize(inversed_fisher_information_postorerior, x0=b0, args=(x_knots, derivatives, KEs, dist, aprior), method='L-BFGS-B', bounds=bnds, options={'maxfev':5000 ,'maxiter':5000})    \n",
    "    #sigmas[j] = opt.fun"
   ]
  },
  {
   "cell_type": "code",
   "execution_count": 418,
   "metadata": {
    "scrolled": true
   },
   "outputs": [
    {
     "data": {
      "text/plain": [
       "Text(0, 0.5, 'max energy error, 1e-4')"
      ]
     },
     "execution_count": 418,
     "metadata": {},
     "output_type": "execute_result"
    },
    {
     "data": {
      "image/png": "[encoded data removed]",
      "text/plain": [
       "<Figure size 432x288 with 1 Axes>"
      ]
     },
     "metadata": {
      "needs_background": "light"
     },
     "output_type": "display_data"
    }
   ],
   "source": [
    "plt.plot(apriors[(sigmas != 0)], sigmas[(sigmas != 0)]*1e4)\n",
    "plt.xlabel(\"a prior constant\")\n",
    "plt.ylabel(\"max energy error, 1e-4\")\n",
    "#plt.savefig(\"max_energy_error_aprior_constant.png\", dpi=300)"
   ]
  },
  {
   "cell_type": "code",
   "execution_count": 101,
   "metadata": {},
   "outputs": [
    {
     "name": "stderr",
     "output_type": "stream",
     "text": [
      "<ipython-input-101-6bbbbb02f088>:1: OptimizeWarning: Unknown solver options: maxfev\n",
      "  optimize.minimize(inversed_fisher_information_postorerior, x0=3700000, args=(b0, x_knots, derivatives, KEs, dist), method='L-BFGS-B', options={'maxfev':5000 ,'maxiter':5000, 'gtol': 1e-10, 'ftol': 10e-10})\n"
     ]
    },
    {
     "data": {
      "text/plain": [
       "      fun: 0.00023572178366958497\n",
       " hess_inv: <1x1 LbfgsInvHessProduct with dtype=float64>\n",
       "      jac: array([-8.03820079e-11])\n",
       "  message: b'CONVERGENCE: NORM_OF_PROJECTED_GRADIENT_<=_PGTOL'\n",
       "     nfev: 2\n",
       "      nit: 0\n",
       "     njev: 1\n",
       "   status: 0\n",
       "  success: True\n",
       "        x: array([3700000.])"
      ]
     },
     "execution_count": 101,
     "metadata": {},
     "output_type": "execute_result"
    }
   ],
   "source": [
    "optimize.minimize(inversed_fisher_information_postorerior, x0=1*10**6, args=(b0, x_knots, derivatives, KEs, dist), method='L-BFGS-B', options={'maxfev':5000 ,'maxiter':5000, 'gtol': 1e-10, 'ftol': 10e-10})"
   ]
  },
  {
   "cell_type": "code",
   "execution_count": 409,
   "metadata": {},
   "outputs": [
    {
     "name": "stderr",
     "output_type": "stream",
     "text": [
      "<timed exec>:2: OptimizeWarning: Unknown solver options: maxfev\n"
     ]
    },
    {
     "name": "stdout",
     "output_type": "stream",
     "text": [
      "Wall time: 3min 3s\n"
     ]
    },
    {
     "data": {
      "text/plain": [
       "      fun: 0.00023760403722747494\n",
       " hess_inv: <15x15 LbfgsInvHessProduct with dtype=float64>\n",
       "      jac: array([-1.88411570e-06,  5.85944057e-06,  1.12301688e-05,  9.17457299e-06,\n",
       "        5.22356681e-06,  1.77471426e-06, -4.57178243e-07, -1.34791268e-06,\n",
       "       -1.00678471e-06,  3.63039677e-07,  2.52829170e-06,  5.26832538e-06,\n",
       "        8.39160826e-06,  8.36953120e-06,  5.04449456e-07])\n",
       "  message: b'CONVERGENCE: NORM_OF_PROJECTED_GRADIENT_<=_PGTOL'\n",
       "     nfev: 80\n",
       "      nit: 4\n",
       "     njev: 5\n",
       "   status: 0\n",
       "  success: True\n",
       "        x: array([4.37658769, 1.61458954, 0.        , 0.        , 0.18809836,\n",
       "       0.70600369, 1.09068524, 1.67189379, 0.87422749, 0.09775575,\n",
       "       0.        , 0.        , 0.        , 0.        , 0.28953262])"
      ]
     },
     "execution_count": 409,
     "metadata": {},
     "output_type": "execute_result"
    }
   ],
   "source": [
    "%%time\n",
    "aprior = 1.39*10**6\n",
    "optimize.minimize(inversed_fisher_information_postorerior, x0=b0, args=(x_knots, derivatives, KEs, dist, aprior), method='L-BFGS-B', bounds=bnds, options={'maxfev':5000 ,'maxiter':5000})"
   ]
  },
  {
   "cell_type": "code",
   "execution_count": 410,
   "metadata": {},
   "outputs": [
    {
     "data": {
      "text/plain": [
       "0.00022551395632930797"
      ]
     },
     "execution_count": 410,
     "metadata": {},
     "output_type": "execute_result"
    }
   ],
   "source": [
    "b1 = [5.99536811, 0.        , 0.        , 0.        , 0.        ,\n",
    "       0.        , 1.35182219, 1.83871332, 0.86881914, 0.        ,\n",
    "       0.        , 0.        , 0.        , 0.        , 0.87101467]\n",
    "\n",
    "inversed_fisher_information_postorerior(b1, x_knots, derivatives, KEs, dist, aprior)"
   ]
  },
  {
   "cell_type": "code",
   "execution_count": 411,
   "metadata": {
    "scrolled": true
   },
   "outputs": [
    {
     "ename": "KeyboardInterrupt",
     "evalue": "",
     "output_type": "error",
     "traceback": [
      "\u001b[1;31m---------------------------------------------------------------------------\u001b[0m",
      "\u001b[1;31mKeyboardInterrupt\u001b[0m                         Traceback (most recent call last)",
      "\u001b[1;32m<ipython-input-411-faa971048dce>\u001b[0m in \u001b[0;36m<module>\u001b[1;34m\u001b[0m\n\u001b[1;32m----> 1\u001b[1;33m \u001b[0moptimize\u001b[0m\u001b[1;33m.\u001b[0m\u001b[0mdual_annealing\u001b[0m\u001b[1;33m(\u001b[0m\u001b[0minversed_fisher_information_postorerior\u001b[0m\u001b[1;33m,\u001b[0m\u001b[0mx0\u001b[0m\u001b[1;33m=\u001b[0m\u001b[0mb1\u001b[0m\u001b[1;33m,\u001b[0m \u001b[0margs\u001b[0m\u001b[1;33m=\u001b[0m\u001b[1;33m(\u001b[0m\u001b[0mx_knots\u001b[0m\u001b[1;33m,\u001b[0m \u001b[0mderivatives\u001b[0m\u001b[1;33m,\u001b[0m \u001b[0mKEs\u001b[0m\u001b[1;33m,\u001b[0m \u001b[0mdist\u001b[0m\u001b[1;33m,\u001b[0m \u001b[0maprior\u001b[0m\u001b[1;33m)\u001b[0m\u001b[1;33m,\u001b[0m\u001b[0mbounds\u001b[0m\u001b[1;33m=\u001b[0m\u001b[0mlist\u001b[0m\u001b[1;33m(\u001b[0m\u001b[0mzip\u001b[0m\u001b[1;33m(\u001b[0m\u001b[0mbl\u001b[0m\u001b[1;33m,\u001b[0m \u001b[0mbw\u001b[0m\u001b[1;33m)\u001b[0m\u001b[1;33m)\u001b[0m\u001b[1;33m,\u001b[0m\u001b[0mno_local_search\u001b[0m\u001b[1;33m=\u001b[0m\u001b[1;32mTrue\u001b[0m\u001b[1;33m)\u001b[0m\u001b[1;33m\u001b[0m\u001b[1;33m\u001b[0m\u001b[0m\n\u001b[0m",
      "\u001b[1;32mC:\\ProgramData\\Anaconda3\\lib\\site-packages\\scipy\\optimize\\_dual_annealing.py\u001b[0m in \u001b[0;36mdual_annealing\u001b[1;34m(func, bounds, args, maxiter, local_search_options, initial_temp, restart_temp_ratio, visit, accept, maxfun, seed, no_local_search, callback, x0)\u001b[0m\n\u001b[0;32m    663\u001b[0m                 \u001b[1;32mbreak\u001b[0m\u001b[1;33m\u001b[0m\u001b[1;33m\u001b[0m\u001b[0m\n\u001b[0;32m    664\u001b[0m             \u001b[1;31m# starting strategy chain\u001b[0m\u001b[1;33m\u001b[0m\u001b[1;33m\u001b[0m\u001b[1;33m\u001b[0m\u001b[0m\n\u001b[1;32m--> 665\u001b[1;33m             \u001b[0mval\u001b[0m \u001b[1;33m=\u001b[0m \u001b[0mstrategy_chain\u001b[0m\u001b[1;33m.\u001b[0m\u001b[0mrun\u001b[0m\u001b[1;33m(\u001b[0m\u001b[0mi\u001b[0m\u001b[1;33m,\u001b[0m \u001b[0mtemperature\u001b[0m\u001b[1;33m)\u001b[0m\u001b[1;33m\u001b[0m\u001b[1;33m\u001b[0m\u001b[0m\n\u001b[0m\u001b[0;32m    666\u001b[0m             \u001b[1;32mif\u001b[0m \u001b[0mval\u001b[0m \u001b[1;32mis\u001b[0m \u001b[1;32mnot\u001b[0m \u001b[1;32mNone\u001b[0m\u001b[1;33m:\u001b[0m\u001b[1;33m\u001b[0m\u001b[1;33m\u001b[0m\u001b[0m\n\u001b[0;32m    667\u001b[0m                 \u001b[0mmessage\u001b[0m\u001b[1;33m.\u001b[0m\u001b[0mappend\u001b[0m\u001b[1;33m(\u001b[0m\u001b[0mval\u001b[0m\u001b[1;33m)\u001b[0m\u001b[1;33m\u001b[0m\u001b[1;33m\u001b[0m\u001b[0m\n",
      "\u001b[1;32mC:\\ProgramData\\Anaconda3\\lib\\site-packages\\scipy\\optimize\\_dual_annealing.py\u001b[0m in \u001b[0;36mrun\u001b[1;34m(self, step, temperature)\u001b[0m\n\u001b[0;32m    288\u001b[0m                 self.energy_state.current_location, j, temperature)\n\u001b[0;32m    289\u001b[0m             \u001b[1;31m# Calling the objective function\u001b[0m\u001b[1;33m\u001b[0m\u001b[1;33m\u001b[0m\u001b[1;33m\u001b[0m\u001b[0m\n\u001b[1;32m--> 290\u001b[1;33m             \u001b[0me\u001b[0m \u001b[1;33m=\u001b[0m \u001b[0mself\u001b[0m\u001b[1;33m.\u001b[0m\u001b[0mfunc_wrapper\u001b[0m\u001b[1;33m.\u001b[0m\u001b[0mfun\u001b[0m\u001b[1;33m(\u001b[0m\u001b[0mx_visit\u001b[0m\u001b[1;33m)\u001b[0m\u001b[1;33m\u001b[0m\u001b[1;33m\u001b[0m\u001b[0m\n\u001b[0m\u001b[0;32m    291\u001b[0m             \u001b[1;32mif\u001b[0m \u001b[0me\u001b[0m \u001b[1;33m<\u001b[0m \u001b[0mself\u001b[0m\u001b[1;33m.\u001b[0m\u001b[0menergy_state\u001b[0m\u001b[1;33m.\u001b[0m\u001b[0mcurrent_energy\u001b[0m\u001b[1;33m:\u001b[0m\u001b[1;33m\u001b[0m\u001b[1;33m\u001b[0m\u001b[0m\n\u001b[0;32m    292\u001b[0m                 \u001b[1;31m# We have got a better energy value\u001b[0m\u001b[1;33m\u001b[0m\u001b[1;33m\u001b[0m\u001b[1;33m\u001b[0m\u001b[0m\n",
      "\u001b[1;32mC:\\ProgramData\\Anaconda3\\lib\\site-packages\\scipy\\optimize\\_dual_annealing.py\u001b[0m in \u001b[0;36mfun\u001b[1;34m(self, x)\u001b[0m\n\u001b[0;32m    371\u001b[0m     \u001b[1;32mdef\u001b[0m \u001b[0mfun\u001b[0m\u001b[1;33m(\u001b[0m\u001b[0mself\u001b[0m\u001b[1;33m,\u001b[0m \u001b[0mx\u001b[0m\u001b[1;33m)\u001b[0m\u001b[1;33m:\u001b[0m\u001b[1;33m\u001b[0m\u001b[1;33m\u001b[0m\u001b[0m\n\u001b[0;32m    372\u001b[0m         \u001b[0mself\u001b[0m\u001b[1;33m.\u001b[0m\u001b[0mnfev\u001b[0m \u001b[1;33m+=\u001b[0m \u001b[1;36m1\u001b[0m\u001b[1;33m\u001b[0m\u001b[1;33m\u001b[0m\u001b[0m\n\u001b[1;32m--> 373\u001b[1;33m         \u001b[1;32mreturn\u001b[0m \u001b[0mself\u001b[0m\u001b[1;33m.\u001b[0m\u001b[0mfunc\u001b[0m\u001b[1;33m(\u001b[0m\u001b[0mx\u001b[0m\u001b[1;33m,\u001b[0m \u001b[1;33m*\u001b[0m\u001b[0mself\u001b[0m\u001b[1;33m.\u001b[0m\u001b[0margs\u001b[0m\u001b[1;33m)\u001b[0m\u001b[1;33m\u001b[0m\u001b[1;33m\u001b[0m\u001b[0m\n\u001b[0m\u001b[0;32m    374\u001b[0m \u001b[1;33m\u001b[0m\u001b[0m\n\u001b[0;32m    375\u001b[0m \u001b[1;33m\u001b[0m\u001b[0m\n",
      "\u001b[1;32m<ipython-input-358-45743f54051b>\u001b[0m in \u001b[0;36minversed_fisher_information_postorerior\u001b[1;34m(b, x_knots, derivatives, KEs, dist, aprior)\u001b[0m\n\u001b[0;32m     47\u001b[0m     \u001b[1;32mreturn\u001b[0m\u001b[1;33m:\u001b[0m \u001b[0mmax\u001b[0m \u001b[0menergy\u001b[0m \u001b[0msigma\u001b[0m\u001b[1;33m\u001b[0m\u001b[1;33m\u001b[0m\u001b[0m\n\u001b[0;32m     48\u001b[0m     \"\"\"\n\u001b[1;32m---> 49\u001b[1;33m     \u001b[0mtime\u001b[0m \u001b[1;33m=\u001b[0m \u001b[0mnp\u001b[0m\u001b[1;33m.\u001b[0m\u001b[0marray\u001b[0m\u001b[1;33m(\u001b[0m\u001b[1;33m[\u001b[0m\u001b[0mT\u001b[0m\u001b[1;33m(\u001b[0m\u001b[0mx\u001b[0m\u001b[1;33m,\u001b[0m \u001b[0mx_knots\u001b[0m\u001b[1;33m,\u001b[0m \u001b[0mb\u001b[0m\u001b[1;33m)\u001b[0m \u001b[1;32mfor\u001b[0m \u001b[0mx\u001b[0m \u001b[1;32min\u001b[0m \u001b[0mKEs\u001b[0m\u001b[1;33m]\u001b[0m\u001b[1;33m)\u001b[0m\u001b[1;33m\u001b[0m\u001b[1;33m\u001b[0m\u001b[0m\n\u001b[0m\u001b[0;32m     50\u001b[0m     \u001b[0msumm\u001b[0m \u001b[1;33m=\u001b[0m \u001b[0mnp\u001b[0m\u001b[1;33m.\u001b[0m\u001b[0msum\u001b[0m\u001b[1;33m(\u001b[0m\u001b[0mtime\u001b[0m\u001b[1;33m)\u001b[0m\u001b[1;33m\u001b[0m\u001b[1;33m\u001b[0m\u001b[0m\n\u001b[0;32m     51\u001b[0m     \u001b[0mb0\u001b[0m \u001b[1;33m=\u001b[0m \u001b[0mnp\u001b[0m\u001b[1;33m.\u001b[0m\u001b[0mones\u001b[0m\u001b[1;33m(\u001b[0m\u001b[0mlen\u001b[0m\u001b[1;33m(\u001b[0m\u001b[0mx_knots\u001b[0m\u001b[1;33m)\u001b[0m \u001b[1;33m-\u001b[0m \u001b[1;36m6\u001b[0m\u001b[1;33m)\u001b[0m\u001b[1;33m\u001b[0m\u001b[1;33m\u001b[0m\u001b[0m\n",
      "\u001b[1;32m<ipython-input-358-45743f54051b>\u001b[0m in \u001b[0;36m<listcomp>\u001b[1;34m(.0)\u001b[0m\n\u001b[0;32m     47\u001b[0m     \u001b[1;32mreturn\u001b[0m\u001b[1;33m:\u001b[0m \u001b[0mmax\u001b[0m \u001b[0menergy\u001b[0m \u001b[0msigma\u001b[0m\u001b[1;33m\u001b[0m\u001b[1;33m\u001b[0m\u001b[0m\n\u001b[0;32m     48\u001b[0m     \"\"\"\n\u001b[1;32m---> 49\u001b[1;33m     \u001b[0mtime\u001b[0m \u001b[1;33m=\u001b[0m \u001b[0mnp\u001b[0m\u001b[1;33m.\u001b[0m\u001b[0marray\u001b[0m\u001b[1;33m(\u001b[0m\u001b[1;33m[\u001b[0m\u001b[0mT\u001b[0m\u001b[1;33m(\u001b[0m\u001b[0mx\u001b[0m\u001b[1;33m,\u001b[0m \u001b[0mx_knots\u001b[0m\u001b[1;33m,\u001b[0m \u001b[0mb\u001b[0m\u001b[1;33m)\u001b[0m \u001b[1;32mfor\u001b[0m \u001b[0mx\u001b[0m \u001b[1;32min\u001b[0m \u001b[0mKEs\u001b[0m\u001b[1;33m]\u001b[0m\u001b[1;33m)\u001b[0m\u001b[1;33m\u001b[0m\u001b[1;33m\u001b[0m\u001b[0m\n\u001b[0m\u001b[0;32m     50\u001b[0m     \u001b[0msumm\u001b[0m \u001b[1;33m=\u001b[0m \u001b[0mnp\u001b[0m\u001b[1;33m.\u001b[0m\u001b[0msum\u001b[0m\u001b[1;33m(\u001b[0m\u001b[0mtime\u001b[0m\u001b[1;33m)\u001b[0m\u001b[1;33m\u001b[0m\u001b[1;33m\u001b[0m\u001b[0m\n\u001b[0;32m     51\u001b[0m     \u001b[0mb0\u001b[0m \u001b[1;33m=\u001b[0m \u001b[0mnp\u001b[0m\u001b[1;33m.\u001b[0m\u001b[0mones\u001b[0m\u001b[1;33m(\u001b[0m\u001b[0mlen\u001b[0m\u001b[1;33m(\u001b[0m\u001b[0mx_knots\u001b[0m\u001b[1;33m)\u001b[0m \u001b[1;33m-\u001b[0m \u001b[1;36m6\u001b[0m\u001b[1;33m)\u001b[0m\u001b[1;33m\u001b[0m\u001b[1;33m\u001b[0m\u001b[0m\n",
      "\u001b[1;32m<ipython-input-3-75bc7d489edb>\u001b[0m in \u001b[0;36mT\u001b[1;34m(x, x_knots, b)\u001b[0m\n\u001b[0;32m     33\u001b[0m     \u001b[0mT\u001b[0m \u001b[1;33m=\u001b[0m \u001b[1;36m1e-19\u001b[0m\u001b[1;33m\u001b[0m\u001b[1;33m\u001b[0m\u001b[0m\n\u001b[0;32m     34\u001b[0m     \u001b[1;32mfor\u001b[0m \u001b[0mi\u001b[0m \u001b[1;32min\u001b[0m \u001b[0mrange\u001b[0m\u001b[1;33m(\u001b[0m\u001b[1;36m1\u001b[0m\u001b[1;33m,\u001b[0m \u001b[0mlen\u001b[0m\u001b[1;33m(\u001b[0m\u001b[0mt\u001b[0m\u001b[1;33m)\u001b[0m\u001b[1;33m-\u001b[0m\u001b[1;36m5\u001b[0m\u001b[1;33m)\u001b[0m\u001b[1;33m:\u001b[0m\u001b[1;33m\u001b[0m\u001b[1;33m\u001b[0m\u001b[0m\n\u001b[1;32m---> 35\u001b[1;33m         \u001b[0mT\u001b[0m \u001b[1;33m+=\u001b[0m \u001b[0mb\u001b[0m\u001b[1;33m[\u001b[0m\u001b[0mi\u001b[0m\u001b[1;33m-\u001b[0m\u001b[1;36m1\u001b[0m\u001b[1;33m]\u001b[0m\u001b[1;33m*\u001b[0m\u001b[0mB\u001b[0m\u001b[1;33m(\u001b[0m\u001b[0mx\u001b[0m\u001b[1;33m,\u001b[0m \u001b[1;36m3\u001b[0m\u001b[1;33m,\u001b[0m \u001b[0mi\u001b[0m\u001b[1;33m,\u001b[0m \u001b[0mt\u001b[0m\u001b[1;33m)\u001b[0m\u001b[1;33m\u001b[0m\u001b[1;33m\u001b[0m\u001b[0m\n\u001b[0m\u001b[0;32m     36\u001b[0m \u001b[1;33m\u001b[0m\u001b[0m\n\u001b[0;32m     37\u001b[0m     \u001b[1;32mreturn\u001b[0m \u001b[0mT\u001b[0m\u001b[1;33m\u001b[0m\u001b[1;33m\u001b[0m\u001b[0m\n",
      "\u001b[1;32m<ipython-input-3-75bc7d489edb>\u001b[0m in \u001b[0;36mB\u001b[1;34m(x, k, i, t)\u001b[0m\n\u001b[0;32m     17\u001b[0m         \u001b[0mc2\u001b[0m \u001b[1;33m=\u001b[0m \u001b[1;36m0.0\u001b[0m\u001b[1;33m\u001b[0m\u001b[1;33m\u001b[0m\u001b[0m\n\u001b[0;32m     18\u001b[0m     \u001b[1;32melse\u001b[0m\u001b[1;33m:\u001b[0m\u001b[1;33m\u001b[0m\u001b[1;33m\u001b[0m\u001b[0m\n\u001b[1;32m---> 19\u001b[1;33m         \u001b[0mc2\u001b[0m \u001b[1;33m=\u001b[0m \u001b[1;33m(\u001b[0m\u001b[0mt\u001b[0m\u001b[1;33m[\u001b[0m\u001b[0mi\u001b[0m\u001b[1;33m+\u001b[0m\u001b[0mk\u001b[0m\u001b[1;33m+\u001b[0m\u001b[1;36m1\u001b[0m\u001b[1;33m]\u001b[0m \u001b[1;33m-\u001b[0m \u001b[0mx\u001b[0m\u001b[1;33m)\u001b[0m\u001b[1;33m/\u001b[0m\u001b[1;33m(\u001b[0m\u001b[0mt\u001b[0m\u001b[1;33m[\u001b[0m\u001b[0mi\u001b[0m\u001b[1;33m+\u001b[0m\u001b[0mk\u001b[0m\u001b[1;33m+\u001b[0m\u001b[1;36m1\u001b[0m\u001b[1;33m]\u001b[0m \u001b[1;33m-\u001b[0m \u001b[0mt\u001b[0m\u001b[1;33m[\u001b[0m\u001b[0mi\u001b[0m\u001b[1;33m+\u001b[0m\u001b[1;36m1\u001b[0m\u001b[1;33m]\u001b[0m\u001b[1;33m)\u001b[0m \u001b[1;33m*\u001b[0m \u001b[0mB\u001b[0m\u001b[1;33m(\u001b[0m\u001b[0mx\u001b[0m\u001b[1;33m,\u001b[0m \u001b[0mk\u001b[0m\u001b[1;33m-\u001b[0m\u001b[1;36m1\u001b[0m\u001b[1;33m,\u001b[0m \u001b[0mi\u001b[0m\u001b[1;33m+\u001b[0m\u001b[1;36m1\u001b[0m\u001b[1;33m,\u001b[0m \u001b[0mt\u001b[0m\u001b[1;33m)\u001b[0m\u001b[1;33m\u001b[0m\u001b[1;33m\u001b[0m\u001b[0m\n\u001b[0m\u001b[0;32m     20\u001b[0m     \u001b[1;32mreturn\u001b[0m \u001b[0mc1\u001b[0m \u001b[1;33m+\u001b[0m \u001b[0mc2\u001b[0m\u001b[1;33m\u001b[0m\u001b[1;33m\u001b[0m\u001b[0m\n\u001b[0;32m     21\u001b[0m \u001b[1;33m\u001b[0m\u001b[0m\n",
      "\u001b[1;32m<ipython-input-3-75bc7d489edb>\u001b[0m in \u001b[0;36mB\u001b[1;34m(x, k, i, t)\u001b[0m\n\u001b[0;32m     17\u001b[0m         \u001b[0mc2\u001b[0m \u001b[1;33m=\u001b[0m \u001b[1;36m0.0\u001b[0m\u001b[1;33m\u001b[0m\u001b[1;33m\u001b[0m\u001b[0m\n\u001b[0;32m     18\u001b[0m     \u001b[1;32melse\u001b[0m\u001b[1;33m:\u001b[0m\u001b[1;33m\u001b[0m\u001b[1;33m\u001b[0m\u001b[0m\n\u001b[1;32m---> 19\u001b[1;33m         \u001b[0mc2\u001b[0m \u001b[1;33m=\u001b[0m \u001b[1;33m(\u001b[0m\u001b[0mt\u001b[0m\u001b[1;33m[\u001b[0m\u001b[0mi\u001b[0m\u001b[1;33m+\u001b[0m\u001b[0mk\u001b[0m\u001b[1;33m+\u001b[0m\u001b[1;36m1\u001b[0m\u001b[1;33m]\u001b[0m \u001b[1;33m-\u001b[0m \u001b[0mx\u001b[0m\u001b[1;33m)\u001b[0m\u001b[1;33m/\u001b[0m\u001b[1;33m(\u001b[0m\u001b[0mt\u001b[0m\u001b[1;33m[\u001b[0m\u001b[0mi\u001b[0m\u001b[1;33m+\u001b[0m\u001b[0mk\u001b[0m\u001b[1;33m+\u001b[0m\u001b[1;36m1\u001b[0m\u001b[1;33m]\u001b[0m \u001b[1;33m-\u001b[0m \u001b[0mt\u001b[0m\u001b[1;33m[\u001b[0m\u001b[0mi\u001b[0m\u001b[1;33m+\u001b[0m\u001b[1;36m1\u001b[0m\u001b[1;33m]\u001b[0m\u001b[1;33m)\u001b[0m \u001b[1;33m*\u001b[0m \u001b[0mB\u001b[0m\u001b[1;33m(\u001b[0m\u001b[0mx\u001b[0m\u001b[1;33m,\u001b[0m \u001b[0mk\u001b[0m\u001b[1;33m-\u001b[0m\u001b[1;36m1\u001b[0m\u001b[1;33m,\u001b[0m \u001b[0mi\u001b[0m\u001b[1;33m+\u001b[0m\u001b[1;36m1\u001b[0m\u001b[1;33m,\u001b[0m \u001b[0mt\u001b[0m\u001b[1;33m)\u001b[0m\u001b[1;33m\u001b[0m\u001b[1;33m\u001b[0m\u001b[0m\n\u001b[0m\u001b[0;32m     20\u001b[0m     \u001b[1;32mreturn\u001b[0m \u001b[0mc1\u001b[0m \u001b[1;33m+\u001b[0m \u001b[0mc2\u001b[0m\u001b[1;33m\u001b[0m\u001b[1;33m\u001b[0m\u001b[0m\n\u001b[0;32m     21\u001b[0m \u001b[1;33m\u001b[0m\u001b[0m\n",
      "\u001b[1;32m<ipython-input-3-75bc7d489edb>\u001b[0m in \u001b[0;36mB\u001b[1;34m(x, k, i, t)\u001b[0m\n\u001b[0;32m     10\u001b[0m     \u001b[1;32mif\u001b[0m \u001b[0mk\u001b[0m \u001b[1;33m==\u001b[0m \u001b[1;36m0\u001b[0m\u001b[1;33m:\u001b[0m\u001b[1;33m\u001b[0m\u001b[1;33m\u001b[0m\u001b[0m\n\u001b[0;32m     11\u001b[0m         \u001b[1;32mreturn\u001b[0m \u001b[1;36m1.0\u001b[0m \u001b[1;32mif\u001b[0m \u001b[0mt\u001b[0m\u001b[1;33m[\u001b[0m\u001b[0mi\u001b[0m\u001b[1;33m]\u001b[0m \u001b[1;33m<=\u001b[0m \u001b[0mx\u001b[0m \u001b[1;33m<\u001b[0m \u001b[0mt\u001b[0m\u001b[1;33m[\u001b[0m\u001b[0mi\u001b[0m\u001b[1;33m+\u001b[0m\u001b[1;36m1\u001b[0m\u001b[1;33m]\u001b[0m \u001b[1;32melse\u001b[0m \u001b[1;36m0.0\u001b[0m\u001b[1;33m\u001b[0m\u001b[1;33m\u001b[0m\u001b[0m\n\u001b[1;32m---> 12\u001b[1;33m     \u001b[1;32mif\u001b[0m \u001b[0mt\u001b[0m\u001b[1;33m[\u001b[0m\u001b[0mi\u001b[0m\u001b[1;33m+\u001b[0m\u001b[0mk\u001b[0m\u001b[1;33m]\u001b[0m \u001b[1;33m==\u001b[0m \u001b[0mt\u001b[0m\u001b[1;33m[\u001b[0m\u001b[0mi\u001b[0m\u001b[1;33m]\u001b[0m\u001b[1;33m:\u001b[0m\u001b[1;33m\u001b[0m\u001b[1;33m\u001b[0m\u001b[0m\n\u001b[0m\u001b[0;32m     13\u001b[0m         \u001b[0mc1\u001b[0m \u001b[1;33m=\u001b[0m \u001b[1;36m0.0\u001b[0m\u001b[1;33m\u001b[0m\u001b[1;33m\u001b[0m\u001b[0m\n\u001b[0;32m     14\u001b[0m     \u001b[1;32melse\u001b[0m\u001b[1;33m:\u001b[0m\u001b[1;33m\u001b[0m\u001b[1;33m\u001b[0m\u001b[0m\n",
      "\u001b[1;31mKeyboardInterrupt\u001b[0m: "
     ]
    }
   ],
   "source": [
    "optimize.dual_annealing(inversed_fisher_information_postorerior,x0=b1, args=(x_knots, derivatives, KEs, dist, aprior),bounds=list(zip(bl, bw)),no_local_search=True)"
   ]
  },
  {
   "cell_type": "code",
   "execution_count": 200,
   "metadata": {},
   "outputs": [],
   "source": [
    "bo = [5.99536811, 0.        , 0.        , 0.        , 0.        ,\n",
    "       0.        , 1.35182219, 1.83871332, 0.86881914, 0.        ,\n",
    "       0.        , 0.        , 0.        , 0.        , 0.87101467]\n",
    "\n",
    "b0 = np.ones(len(x_knots)- 6)\n",
    "x = np.linspace(0.001, max_energy, 1000)\n",
    "y0 = np.array([T(x, x_knots, b0) for x in x])\n",
    "yo = np.array([T(x, x_knots, bo) for x in x])\n",
    "yo = yo*np.sum(y0)/np.sum(yo)"
   ]
  },
  {
   "cell_type": "code",
   "execution_count": 356,
   "metadata": {},
   "outputs": [
    {
     "data": {
      "text/plain": [
       "990.1777490052763"
      ]
     },
     "execution_count": 356,
     "metadata": {},
     "output_type": "execute_result"
    }
   ],
   "source": [
    "y0 = np.array([T(x, x_knots, b0) for x in x])\n",
    "np.sum(y0)"
   ]
  },
  {
   "cell_type": "code",
   "execution_count": 379,
   "metadata": {},
   "outputs": [],
   "source": [
    "from scipy.integrate import quad\n",
    "def integrateQ(func, a, b):\n",
    "    res = quad(func, a,b)\n",
    "    return res[0]\n",
    "\n",
    "def integrateR(func, a, b, numPoints = 1000):\n",
    "    points, step = np.linspace(a, b, numPoints, endpoint=True, retstep=True)\n",
    "    return np.sum(func(points))*step\n",
    "\n",
    "from scipy.integrate import simps\n",
    "def integrateS(func, a, b, numPoints = 1000):\n",
    "    x = np.linspace(a,b, numPoints, endpoint=True)\n",
    "    return simps(x = x, y = func(x))\n",
    "\n",
    "integrate = integrateQ"
   ]
  },
  {
   "cell_type": "code",
   "execution_count": 385,
   "metadata": {},
   "outputs": [],
   "source": [
    "convolute = lambda f, g, a, b: np.vectorize(lambda x: integrate(lambda y: f(x-y)*g(y), a, b))\n",
    "sigma = 1\n",
    "g = lambda x : 1/np.sqrt(2*np.pi)/sigma*np.exp(-x*x/2/sigma/sigma)\n",
    "time = lambda x : T(x, x_knots, bo)\n",
    "time = np.vectorize(time)"
   ]
  },
  {
   "cell_type": "code",
   "execution_count": 386,
   "metadata": {},
   "outputs": [
    {
     "name": "stdout",
     "output_type": "stream",
     "text": [
      "Wall time: 7min 6s\n"
     ]
    }
   ],
   "source": [
    "%%time\n",
    "conv = convolute(time, g, 0.001, max_energy)(x)"
   ]
  },
  {
   "cell_type": "code",
   "execution_count": 387,
   "metadata": {},
   "outputs": [
    {
     "data": {
      "text/plain": [
       "<matplotlib.legend.Legend at 0x2e6735c2490>"
      ]
     },
     "execution_count": 387,
     "metadata": {},
     "output_type": "execute_result"
    },
    {
     "data": {
      "image/png": "[encoded data removed]",
      "text/plain": [
       "<Figure size 432x288 with 1 Axes>"
      ]
     },
     "metadata": {
      "needs_background": "light"
     },
     "output_type": "display_data"
    }
   ],
   "source": [
    "y0 = np.array([T(x, x_knots, b0) for x in x])\n",
    "conv_normed = conv*np.sum(y0)/np.sum(conv)\n",
    "plt.plot(x, yo)\n",
    "plt.plot(x, conv_normed, label='gaus sigma = 1')\n",
    "plt.xlabel(\"energy, KeV\")\n",
    "plt.ylabel(\"time, arb. unit\")\n",
    "plt.legend()\n",
    "#plt.savefig(\"figs/convolute_strategy_gaus_1_quad.png\", dpi=150)"
   ]
  },
  {
   "cell_type": "code",
   "execution_count": 303,
   "metadata": {},
   "outputs": [],
   "source": [
    "#using lmft\n",
    "def resid(params, KEs, ydata):\n",
    "    max_energy = params['max_energy'].value\n",
    "    noise = params['noise'].value\n",
    "    calibr = params['calibr'].value\n",
    "    lin = params['lin'].value\n",
    "\n",
    "    y_model = experimental_lin(KEs, max_energy, noise, calibr, lin)\n",
    "    return y_model - ydata\n",
    "\n",
    "\n",
    "params = lmfit.Parameters()\n",
    "params.add('max_energy', 18.57, min=18, max=19)\n",
    "params.add('noise', 0, min=-500, max=500)\n",
    "params.add('calibr', 1, min=0, max=2)\n",
    "params.add('lin', 10**4, min=10**3, max=10**5)"
   ]
  },
  {
   "cell_type": "code",
   "execution_count": 304,
   "metadata": {},
   "outputs": [],
   "source": [
    "def residual(params):\n",
    "    max_energy = params['max_energy'].value\n",
    "    noise = params['noise'].value\n",
    "    calibr = params['calibr'].value\n",
    "    lin = params['lin'].value\n",
    "\n",
    "    y_model = experimental_lin(KEs, max_energy, noise, calibr, lin)\n",
    "    sigma = np.sqrt(y_model*y0)/y0\n",
    "    return (y_model - y)/sigma"
   ]
  },
  {
   "cell_type": "code",
   "execution_count": 391,
   "metadata": {},
   "outputs": [
    {
     "name": "stdout",
     "output_type": "stream",
     "text": [
      "[[Variables]]\n",
      "    max_energy:  18.5695795 +/- 2.1055e-04 (0.00%) (init = 18.57)\n",
      "    noise:       40.2244787 +/- 26.9818006 (67.08%) (init = 0)\n",
      "    calibr:      1.00013506 +/- 9.6453e-05 (0.01%) (init = 1)\n",
      "    lin:         10042.7012 +/- 75.0047110 (0.75%) (init = 10000)\n",
      "[[Correlations]] (unreported correlations are < 0.010)\n",
      "    C(calibr, lin)        =  0.958\n",
      "    C(noise, calibr)      =  0.802\n",
      "    C(noise, lin)         =  0.733\n",
      "    C(max_energy, lin)    =  0.521\n",
      "    C(max_energy, calibr) =  0.271\n",
      "    C(max_energy, noise)  =  0.031\n"
     ]
    }
   ],
   "source": [
    "np.random.seed(20)\n",
    "y0 = yo\n",
    "y = np.random.poisson(dist*y0)/y0\n",
    "mini = lmfit.Minimizer(residual, params, nan_policy='propagate')\n",
    "out1 = mini.minimize(method='nealder')\n",
    "lmfit.report_fit(out1.params, min_correl=0.01)"
   ]
  },
  {
   "cell_type": "code",
   "execution_count": 367,
   "metadata": {},
   "outputs": [
    {
     "data": {
      "image/png": "[encoded data removed]",
      "text/plain": [
       "<Figure size 921.6x345.6 with 6 Axes>"
      ]
     },
     "metadata": {
      "needs_background": "light"
     },
     "output_type": "display_data"
    }
   ],
   "source": [
    "fig, axes = plt.subplots(1, 3, figsize=(12.8, 4.8))\n",
    "\n",
    "cx, cy, grid = lmfit.conf_interval2d(mini, out1, 'max_energy', 'lin', 30, 30)\n",
    "ctp = axes[0].contourf(cx, cy, grid, np.linspace(0, 1, 11))\n",
    "fig.colorbar(ctp, ax=axes[0])\n",
    "axes[0].set_xlabel('max_energy')\n",
    "axes[0].set_ylabel('lin')\n",
    "#axes[0].set_xticks([18.567, 18.5685, 18.57, 18.571])\n",
    "\n",
    "cx, cy, grid = lmfit.conf_interval2d(mini, out1, 'max_energy', 'calibr', 30, 30)\n",
    "ctp = axes[1].contourf(cx, cy, grid, np.linspace(0, 1, 11))\n",
    "fig.colorbar(ctp, ax=axes[1])\n",
    "axes[1].set_xlabel('max_energy')\n",
    "axes[1].set_ylabel('calibr')\n",
    "#axes[1].set_xticks([18.567, 18.5685, 18.57, 18.571])\n",
    "\n",
    "cx, cy, grid = lmfit.conf_interval2d(mini, out1, 'max_energy', 'noise', 30, 30)\n",
    "ctp = axes[2].contourf(cx, cy, grid, np.linspace(0, 1, 11))\n",
    "fig.colorbar(ctp, ax=axes[2])\n",
    "axes[2].set_xlabel('max_energy')\n",
    "axes[2].set_ylabel('noise')\n",
    "#axes[2].set_xticks([18.567, 18.5685, 18.57, 18.571])\n",
    "\n",
    "#plt.savefig('figs/confidence_region_calibr_noise_initial_convolute_strategy_gaus_1.png', dpi=200)\n",
    "plt.show()"
   ]
  },
  {
   "cell_type": "code",
   "execution_count": 368,
   "metadata": {},
   "outputs": [
    {
     "data": {
      "text/plain": [
       "1.4523241489369818"
      ]
     },
     "execution_count": 368,
     "metadata": {},
     "output_type": "execute_result"
    }
   ],
   "source": [
    "inversed_fisher_information_postorerior(b0, x_knots, derivatives, KEs, dist, aprior=0)/2.8058e-04"
   ]
  },
  {
   "cell_type": "code",
   "execution_count": null,
   "metadata": {},
   "outputs": [],
   "source": [
    "## quad sigma = 0.5\n",
    "[[Variables]]\n",
    "    max_energy:  18.5697251 +/- 2.7356e-04 (0.00%) (init = 18.57)\n",
    "    noise:       0.07463126 +/- 36.1331289 (48415.54%) (init = 0)\n",
    "    calibr:      0.99998831 +/- 1.3483e-04 (0.01%) (init = 1)\n",
    "    lin:         9950.20693 +/- 107.683543 (1.08%) (init = 10000)\n",
    "[[Correlations]] (unreported correlations are < 0.010)\n",
    "    C(calibr, lin)        =  0.970\n",
    "    C(noise, calibr)      =  0.791\n",
    "    C(noise, lin)         =  0.739\n",
    "    C(max_energy, lin)    =  0.605\n",
    "    C(max_energy, calibr) =  0.405\n",
    "    C(max_energy, noise)  =  0.156\n",
    "    \n",
    "## simps sigma = 0.5\n",
    "[[Variables]]\n",
    "    max_energy:  18.5696753 +/- 2.7857e-04 (0.00%) (init = 18.57)\n",
    "    noise:      -41.5087291 +/- 36.5055003 (87.95%) (init = 0)\n",
    "    calibr:      0.99986524 +/- 1.3707e-04 (0.01%) (init = 1)\n",
    "    lin:         9858.28320 +/- 109.516936 (1.11%) (init = 10000)\n",
    "[[Correlations]] (unreported correlations are < 0.010)\n",
    "    C(calibr, lin)        =  0.969\n",
    "    C(noise, calibr)      =  0.791\n",
    "    C(noise, lin)         =  0.739\n",
    "    C(max_energy, lin)    =  0.606\n",
    "    C(max_energy, calibr) =  0.405\n",
    "    C(max_energy, noise)  =  0.156\n",
    "    \n",
    "## quad sigma = 1\n",
    "[[Variables]]\n",
    "    max_energy:  18.5695071 +/- 2.9162e-04 (0.00%) (init = 18.57)\n",
    "    noise:       0.02528637 +/- 36.5321510 (144473.66%) (init = 0)\n",
    "    calibr:      1.00001034 +/- 1.3036e-04 (0.01%) (init = 1)\n",
    "    lin:         9944.80140 +/- 110.280297 (1.11%) (init = 10000)\n",
    "[[Correlations]] (unreported correlations are < 0.010)\n",
    "    C(calibr, lin)        =  0.971\n",
    "    C(noise, calibr)      =  0.733\n",
    "    C(max_energy, lin)    =  0.714\n",
    "    C(noise, lin)         =  0.686\n",
    "    C(max_energy, calibr) =  0.536\n",
    "    C(max_energy, noise)  =  0.238"
   ]
  },
  {
   "cell_type": "code",
   "execution_count": 388,
   "metadata": {},
   "outputs": [
    {
     "data": {
      "text/plain": [
       "1.7364144837187998"
      ]
     },
     "execution_count": 388,
     "metadata": {},
     "output_type": "execute_result"
    }
   ],
   "source": [
    "inversed_fisher_information_postorerior(b0, x_knots, derivatives, KEs, dist, aprior=0)/inversed_fisher_information_postorerior(bo, x_knots, derivatives, KEs, dist, aprior=0)"
   ]
  },
  {
   "cell_type": "code",
   "execution_count": 389,
   "metadata": {},
   "outputs": [
    {
     "data": {
      "text/plain": [
       "1.3973428081364048"
      ]
     },
     "execution_count": 389,
     "metadata": {},
     "output_type": "execute_result"
    }
   ],
   "source": [
    "inversed_fisher_information_postorerior(b0, x_knots, derivatives, KEs, dist, aprior=0)/2.9162e-04"
   ]
  },
  {
   "cell_type": "code",
   "execution_count": 390,
   "metadata": {},
   "outputs": [
    {
     "data": {
      "text/plain": [
       "1.4895931777626055"
      ]
     },
     "execution_count": 390,
     "metadata": {},
     "output_type": "execute_result"
    }
   ],
   "source": [
    "inversed_fisher_information_postorerior(b0, x_knots, derivatives, KEs, dist, aprior=0)/2.7356e-04"
   ]
  },
  {
   "cell_type": "code",
   "execution_count": null,
   "metadata": {},
   "outputs": [],
   "source": []
  }
 ],
 "metadata": {
  "kernelspec": {
   "display_name": "Python 3",
   "language": "python",
   "name": "python3"
  },
  "language_info": {
   "codemirror_mode": {
    "name": "ipython",
    "version": 3
   },
   "file_extension": ".py",
   "mimetype": "text/x-python",
   "name": "python",
   "nbconvert_exporter": "python",
   "pygments_lexer": "ipython3",
   "version": "3.8.3"
  }
 },
 "nbformat": 4,
 "nbformat_minor": 4
}
