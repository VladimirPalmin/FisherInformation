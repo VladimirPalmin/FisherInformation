{
 "cells": [
  {
   "cell_type": "code",
   "execution_count": 1,
   "metadata": {},
   "outputs": [],
   "source": [
    "import numpy as np\n",
    "import matplotlib.pyplot as plt\n",
    "import random\n",
    "from scipy import optimize\n",
    "import plotly.graph_objs as go\n",
    "import corner\n",
    "import emcee\n",
    "from IPython.display import display, Math"
   ]
  },
  {
   "cell_type": "code",
   "execution_count": 2,
   "metadata": {},
   "outputs": [],
   "source": [
    "def Fermi_function(Z, kinetic_energy):\n",
    "    me = 0.511*1000 #keV\n",
    "    a = 1/137\n",
    "    E = kinetic_energy + me\n",
    "    pc = np.sqrt(E**2 - me**2)\n",
    "    x = 2*np.pi*Z*a*E/pc\n",
    "    return x/(1-np.exp(-x))"
   ]
  },
  {
   "cell_type": "code",
   "execution_count": 198,
   "metadata": {},
   "outputs": [],
   "source": [
    "def B(x, k, i, t):\n",
    "    \"\"\"\n",
    "    B-spline\n",
    "    t : numpy array\n",
    "      knots\n",
    "    k, i : int\n",
    "      spline number\n",
    "    return: B_ki spline at point x\n",
    "    \"\"\"\n",
    "    if k == 0:\n",
    "        return 1.0 if t[i] <= x < t[i+1] else 0.0\n",
    "    if t[i+k] == t[i]:\n",
    "        c1 = 0.0\n",
    "    else:\n",
    "        c1 = (x - t[i])/(t[i+k] - t[i]) * B(x, k-1, i, t)\n",
    "    if t[i+k+1] == t[i+1]:\n",
    "        c2 = 0.0\n",
    "    else:\n",
    "        c2 = (t[i+k+1] - x)/(t[i+k+1] - t[i+1]) * B(x, k-1, i+1, t)\n",
    "    return c1 + c2\n",
    "\n",
    "\n",
    "\n",
    "def T(x, x_knots, b):\n",
    "    \"\"\"\n",
    "    time strategy\n",
    "    x_knots : numpy array\n",
    "    b : numpy array\n",
    "      weights\n",
    "    return: time at point x\n",
    "    \"\"\"\n",
    "    t = x_knots\n",
    "    T = 1e-19\n",
    "    for i in range(1, len(t)-5):\n",
    "        T += b[i-1]*B(x, 3, i, t)\n",
    "    \n",
    "    return T*3*3600*24*365 #3 years"
   ]
  },
  {
   "cell_type": "code",
   "execution_count": 29,
   "metadata": {},
   "outputs": [],
   "source": [
    "def experiment(kinetic_energy, max_energy, noise, calibr, m, U, lin, Z=2, me=511):\n",
    "    \"\"\"\n",
    "    function for fitting with linear additive\n",
    "    \"\"\"\n",
    "    return calibr*intensity(kinetic_energy, max_energy, m, U, lin) + noise \n",
    "\n",
    "def intensity(kinetic_energy, max_energy, m, U, lin, Z=2, me=511):\n",
    "    \"\"\"\n",
    "    function for intensity with linear additive\n",
    "    \"\"\"\n",
    "    E = kinetic_energy + me\n",
    "    pc = np.sqrt(E**2 - me**2)\n",
    "    return Fermi_function(Z, kinetic_energy) * (kinetic_energy + me) *pc*(max_energy - kinetic_energy)* (U**2*np.sqrt((max_energy - kinetic_energy)**2 - m**2) + (1 - U**2)*(max_energy - kinetic_energy)) - lin*(max_energy - kinetic_energy)"
   ]
  },
  {
   "cell_type": "code",
   "execution_count": 254,
   "metadata": {},
   "outputs": [],
   "source": [
    "def div_max(kinetic_energy, max_energy, m, U, lin, Z=2, me=511):\n",
    "    \"\"\"\n",
    "    derivative of max energy parameter \n",
    "    \"\"\"\n",
    "    E = kinetic_energy + me\n",
    "    pc = np.sqrt(E**2 - me**2)\n",
    "    sqroot = np.sqrt((max_energy - kinetic_energy)**2 - m**2)\n",
    "    return Fermi_function(Z, kinetic_energy) * (kinetic_energy + me) *pc*(U**2*sqroot + (1 - U)*(max_energy - kinetic_energy) \\\n",
    "           + (max_energy - kinetic_energy)*(U**2*(max_energy - kinetic_energy)/sqroot + 1 - U**2)) - lin\n",
    "                                                    \n",
    "\n",
    "def div_mass(kinetic_energy, max_energy, m, U, lin, Z=2, me=511):\n",
    "    \"\"\"\n",
    "    derivative of mass parameter \n",
    "    \"\"\"\n",
    "    E = kinetic_energy + me\n",
    "    pc = np.sqrt(E**2 - me**2)\n",
    "    sqroot = np.sqrt((max_energy - kinetic_energy)**2 - m**2)\n",
    "    return -Fermi_function(Z, kinetic_energy) * (kinetic_energy + me) *pc* (max_energy - kinetic_energy)*U**2*m/sqroot\n",
    "                                        \n",
    "                                                                          \n",
    "def div_U(kinetic_energy, max_energy, m, U, lin, Z=2, me=511):\n",
    "    \"\"\"\n",
    "    derivative of U parameter \n",
    "    \"\"\"\n",
    "    E = kinetic_energy + me\n",
    "    pc = np.sqrt(E**2 - me**2)\n",
    "    sqroot = np.sqrt((max_energy - kinetic_energy)**2 - m**2)\n",
    "    return Fermi_function(Z, kinetic_energy) * (kinetic_energy + me) *pc* (max_energy - kinetic_energy)*(sqroot - (max_energy - kinetic_energy))*2*U\n",
    "\n",
    "\n",
    "def div_lin(kinetic_energy, max_energy, m, U, lin, Z=2, me=511):\n",
    "    \"\"\"\n",
    "    derivative of additive amplitude parameter \n",
    "    \"\"\"\n",
    "    return -(max_energy - kinetic_energy)\n",
    "\n",
    "\n",
    "def div_cal(kinetic_energy, max_energy, m, U, lin, Z=2, me=511):\n",
    "    \"\"\"\n",
    "    derivative of calibration parameter \n",
    "    \"\"\"\n",
    "    E = kinetic_energy + me\n",
    "    pc = np.sqrt(E**2 - me**2)\n",
    "    return Fermi_function(Z, kinetic_energy) * (kinetic_energy + me) *pc*(max_energy - kinetic_energy)* (U**2*np.sqrt((max_energy - kinetic_energy)**2 - m**2) + (1 - U**2)*(max_energy - kinetic_energy)) - lin*(max_energy - kinetic_energy)\n",
    "\n",
    "\n",
    "#derivative of noise is equal to one\n",
    "\n",
    "\n",
    "def inversed_fisher_information(b, x_knots, derivatives, KEs, dist, sigma, par_number):\n",
    "    \"\"\"\n",
    "    inverse fisher infromation matrix\n",
    "    x_knots : numpy array\n",
    "    derivatives : numpy array\n",
    "      array of derivatives\n",
    "    dist : numpy array\n",
    "      intensity array\n",
    "    normolize : double\n",
    "      area normalization (as not to change the total time)\n",
    "    return: max energy sigma\n",
    "    \"\"\"\n",
    "    time = np.array([T(x, x_knots, b) for x in KEs])\n",
    "    summ = np.sum(time)\n",
    "    b0 = np.ones(len(x_knots) - 6)\n",
    "    y0 = np.array([T(x, x_knots, b0) for x in KEs])\n",
    "    normolize = np.sum(y0)\n",
    "    time = time * normolize / summ\n",
    "    length = len(derivatives)\n",
    "    FIM = np.zeros((length, length))\n",
    "    for i in range(length):\n",
    "        for j in range(length):\n",
    "            FIM[i][j] = np.sum(time*derivatives[i]*derivatives[j]/dist)\n",
    "    \n",
    "    FIM[par_number][par_number] = FIM[par_number][par_number] + 1/sigma**2\n",
    "    return np.sqrt(np.linalg.inv(FIM)[3][3])*10**5\n",
    "    #return np.linalg.inv(FIM)\n",
    "    return np.max(np.linalg.eig(FIM)[0])"
   ]
  },
  {
   "cell_type": "code",
   "execution_count": 196,
   "metadata": {},
   "outputs": [],
   "source": [
    "def parameters_error_and_corr(b, x_knots, KEs, dist, b0, theta):\n",
    "    m, noise, calibr, max_energy, U, lin = theta\n",
    "    time = np.array([T(x, x_knots, b) for x in KEs])\n",
    "    time0 = np.array([T(x, x_knots, b0) for x in KEs])\n",
    "    time = time*np.sum(time0)/ np.sum(time)\n",
    "    y = np.random.poisson(dist*time)/time\n",
    "    popt, pcov = optimize.curve_fit(f = experiment, xdata= KEs, ydata=y,\n",
    "                                    p0 = [m, noise, calibr, max_energy, U, lin], sigma=np.sqrt(dist*time)/time, absolute_sigma=True,\n",
    "                                    bounds=((m/3, -1500, 0., 18, U/3, 0.5*10**4), (3*m, 1500, 2, 19, 3*U, 1.5*10**4)), method= 'dogbox')\n",
    "    sigmas = np.sqrt(np.diag(pcov))\n",
    "    corr = np.zeros(5)\n",
    "    j=0\n",
    "    for i in range(1 + j, 6):\n",
    "        corr[i+j-1] = pcov[j][i]/(sigmas[j]*sigmas[i])\n",
    "    return popt, sigmas, corr"
   ]
  },
  {
   "cell_type": "code",
   "execution_count": 262,
   "metadata": {},
   "outputs": [],
   "source": [
    "max_energy = 18.57 \n",
    "n = 1000 # number of points\n",
    "KEs = np.linspace(0.001, max_energy - 0.2, n) #kinetic energies \n",
    "m = 3*0.001 #keV\n",
    "U = 0.1\n",
    "lin = 10**4\n",
    "\n",
    "div_max_ar = div_max(KEs, max_energy, m, U, lin)\n",
    "div_cal_ar = div_cal(KEs, max_energy, m, U, lin)\n",
    "div_noise_ar = np.ones(len(KEs))\n",
    "div_mass_ar = div_mass(KEs, max_energy, m, U, lin)\n",
    "div_U_ar = div_U(KEs, max_energy, m, U, lin)\n",
    "div_lin_ar = div_lin(KEs, max_energy, m, U, lin)\n",
    "derivatives = np.array([div_mass_ar, div_noise_ar, div_cal_ar, div_max_ar, div_U_ar, div_lin_ar]) \n",
    "\n",
    "dist = intensity(KEs, max_energy, m, U, lin) #intensity\n",
    "a = 0.001 #start of grid\n",
    "b = max_energy #end of grid\n",
    "x_knots = np.concatenate([np.linspace(a-2, a-0.5, 3), np.linspace(a, b, 10), np.linspace(b + 1.5, b + 3.5, 3)])\n",
    "b0 = np.ones(len(x_knots) - 6) #initial weights\n",
    "bl = tuple(np.zeros(len(x_knots) - 6)) #lower bound\n",
    "bw = tuple(np.ones(len(x_knots) - 6)*50) #upper bound\n",
    "bnds = optimize.Bounds(bl, bw) #bounds"
   ]
  },
  {
   "cell_type": "code",
   "execution_count": null,
   "metadata": {},
   "outputs": [],
   "source": [
    "Nelder-Mead"
   ]
  },
  {
   "cell_type": "code",
   "execution_count": 251,
   "metadata": {},
   "outputs": [
    {
     "data": {
      "text/plain": [
       "      fun: 0.06197044849199098\n",
       " hess_inv: <10x10 LbfgsInvHessProduct with dtype=float64>\n",
       "      jac: array([ 6.10314472e-05,  5.26450203e-06,  2.83273860e-03,  2.89243646e-03,\n",
       "        4.56199327e-05, -4.25612713e-05,  2.76691659e-03,  3.36587524e-03,\n",
       "        4.10878660e-04, -1.10278673e-04])\n",
       "  message: b'CONVERGENCE: REL_REDUCTION_OF_F_<=_FACTR*EPSMCH'\n",
       "     nfev: 462\n",
       "      nit: 17\n",
       "     njev: 42\n",
       "   status: 0\n",
       "  success: True\n",
       "        x: array([5.64774641e+00, 2.18869945e-01, 0.00000000e+00, 0.00000000e+00,\n",
       "       3.89115337e-15, 1.61829882e+00, 0.00000000e+00, 0.00000000e+00,\n",
       "       0.00000000e+00, 2.80144051e+00])"
      ]
     },
     "execution_count": 251,
     "metadata": {},
     "output_type": "execute_result"
    }
   ],
   "source": [
    "optimize.minimize(inversed_fisher_information, x0=b0, args=(x_knots, derivatives, KEs, dist, 1.8e-04, 3), method='L-BFGS-B', bounds=bnds, options={'eps':1e-8 ,'maxiter':5000, 'maxls': 40})"
   ]
  },
  {
   "cell_type": "code",
   "execution_count": 243,
   "metadata": {},
   "outputs": [],
   "source": [
    "n = 20\n",
    "b = np.ones(len(x_knots) - 6)\n",
    "b[9] = 1.\n",
    "b[8] = 0.3\n",
    "b[7] = 0\n",
    "b[6] = 0\n",
    "b[5] = 0.75\n",
    "b[4] = 0.5\n",
    "b[3] = 0\n",
    "b[2] = 0\n",
    "b[1] = 1.25\n",
    "summ = np.sum(np.array([T(x, x_knots, b0) for x in KEs]))\n",
    "bs = np.linspace(0, 3, n)\n",
    "sigmas = np.zeros((n, 6))\n",
    "for k, b_k in enumerate(bs):\n",
    "    b[8] = b_k\n",
    "    \n",
    "    FIM = inversed_fisher_information(b, x_knots, derivatives, KEs, dist, 1.8e-04, 3)\n",
    "    sigmas[k] = np.sqrt(np.diag(FIM))"
   ]
  },
  {
   "cell_type": "code",
   "execution_count": 244,
   "metadata": {},
   "outputs": [
    {
     "data": {
      "text/plain": [
       "[<matplotlib.lines.Line2D at 0x2387a8b9a00>]"
      ]
     },
     "execution_count": 244,
     "metadata": {},
     "output_type": "execute_result"
    },
    {
     "data": {
      "image/png": "[encoded data removed]",
      "text/plain": [
       "<Figure size 432x288 with 1 Axes>"
      ]
     },
     "metadata": {
      "needs_background": "light"
     },
     "output_type": "display_data"
    }
   ],
   "source": [
    "plt.plot(bs, sigmas.T[3])"
   ]
  },
  {
   "cell_type": "code",
   "execution_count": 252,
   "metadata": {},
   "outputs": [],
   "source": [
    "b = np.ones(len(x_knots) - 6)\n",
    "b[9] = 1.\n",
    "b[8] = 0.25\n",
    "b[7] = 0\n",
    "b[6] = 0\n",
    "b[5] = 0.75\n",
    "b[4] = 0.5\n",
    "b[3] = 0\n",
    "b[2] = 0\n",
    "b[1] = 1.25\n",
    "\n",
    "bo = [ 0.        ,  0.        ,  0.        ,  0.        ,  0.        ,\n",
    "        0.        ,  0.        ,  0.        ,  0.        , 49.99999853]\n",
    "\n",
    "boo = [5.64774641e+00, 2.18869945e-01, 0.00000000e+00, 0.00000000e+00,\n",
    "       3.89115337e-15, 1.61829882e+00, 0.00000000e+00, 0.00000000e+00,\n",
    "       0.00000000e+00, 2.80144051e+00]"
   ]
  },
  {
   "cell_type": "code",
   "execution_count": 261,
   "metadata": {},
   "outputs": [
    {
     "name": "stdout",
     "output_type": "stream",
     "text": [
      "[ 0.31518792  0.40072003  0.30935576 -0.99850816  0.32068577] [4.36066008e+01 6.46759866e+00 3.51642897e-08 8.27267712e-07\n",
      " 1.42981097e+03 3.03815522e-01]\n",
      "[ 0.34966463  0.48514651  0.33578011 -0.99835677  0.35771302] [3.03509667e+01 4.77113422e+00 2.91245480e-08 6.19704487e-07\n",
      " 9.92155033e+02 2.26514367e-01]\n"
     ]
    }
   ],
   "source": [
    "n_par = 3\n",
    "\n",
    "FIM = inversed_fisher_information(b0, x_knots, derivatives, KEs, dist, 1.8e-04, n_par)\n",
    "\n",
    "sigmas = np.sqrt(np.diag(FIM))\n",
    "corr = np.zeros(5)\n",
    "j=0\n",
    "for i in range(1 + j, 6):\n",
    "    corr[i+j-1] = FIM[j][i]/(sigmas[j]*sigmas[i])\n",
    "    \n",
    "print(corr, sigmas)\n",
    "\n",
    "FIM = inversed_fisher_information(boo, x_knots, derivatives, KEs, dist, 1.8e-04, n_par)\n",
    "\n",
    "sigmas = np.sqrt(np.diag(FIM))\n",
    "corr = np.zeros(5)\n",
    "j=0\n",
    "for i in range(1 + j, 6):\n",
    "    corr[i+j-1] = FIM[j][i]/(sigmas[j]*sigmas[i])\n",
    "    \n",
    "print(corr, sigmas)"
   ]
  },
  {
   "cell_type": "code",
   "execution_count": 263,
   "metadata": {},
   "outputs": [
    {
     "data": {
      "text/plain": [
       "10116.9889"
      ]
     },
     "execution_count": 263,
     "metadata": {},
     "output_type": "execute_result"
    }
   ],
   "source": [
    "3.03509667e+01/m"
   ]
  },
  {
   "cell_type": "code",
   "execution_count": 199,
   "metadata": {},
   "outputs": [
    {
     "ename": "ValueError",
     "evalue": "lam value too large",
     "output_type": "error",
     "traceback": [
      "\u001b[1;31m---------------------------------------------------------------------------\u001b[0m",
      "\u001b[1;31mValueError\u001b[0m                                Traceback (most recent call last)",
      "\u001b[1;32m<ipython-input-199-cc5e0e4052b8>\u001b[0m in \u001b[0;36m<module>\u001b[1;34m\u001b[0m\n\u001b[0;32m      1\u001b[0m \u001b[0mtheta\u001b[0m \u001b[1;33m=\u001b[0m \u001b[0mnp\u001b[0m\u001b[1;33m.\u001b[0m\u001b[0marray\u001b[0m\u001b[1;33m(\u001b[0m\u001b[1;33m[\u001b[0m\u001b[0mm\u001b[0m\u001b[1;33m,\u001b[0m \u001b[1;36m1\u001b[0m\u001b[1;33m,\u001b[0m \u001b[1;36m1\u001b[0m\u001b[1;33m,\u001b[0m \u001b[0mmax_energy\u001b[0m\u001b[1;33m,\u001b[0m \u001b[0mU\u001b[0m\u001b[1;33m,\u001b[0m \u001b[0mlin\u001b[0m\u001b[1;33m]\u001b[0m\u001b[1;33m)\u001b[0m\u001b[1;33m\u001b[0m\u001b[1;33m\u001b[0m\u001b[0m\n\u001b[1;32m----> 2\u001b[1;33m \u001b[0mpopt\u001b[0m\u001b[1;33m,\u001b[0m \u001b[0msigmas\u001b[0m\u001b[1;33m,\u001b[0m \u001b[0mcorr\u001b[0m \u001b[1;33m=\u001b[0m \u001b[0mparameters_error_and_corr\u001b[0m\u001b[1;33m(\u001b[0m\u001b[0mb0\u001b[0m\u001b[1;33m,\u001b[0m \u001b[0mx_knots\u001b[0m\u001b[1;33m,\u001b[0m \u001b[0mKEs\u001b[0m\u001b[1;33m,\u001b[0m \u001b[0mdist\u001b[0m\u001b[1;33m,\u001b[0m \u001b[0mb0\u001b[0m\u001b[1;33m,\u001b[0m \u001b[0mtheta\u001b[0m\u001b[1;33m)\u001b[0m\u001b[1;33m\u001b[0m\u001b[1;33m\u001b[0m\u001b[0m\n\u001b[0m\u001b[0;32m      3\u001b[0m \u001b[0mpopt\u001b[0m\u001b[1;33m,\u001b[0m \u001b[0msigmas\u001b[0m\u001b[1;33m,\u001b[0m \u001b[0mcorr\u001b[0m\u001b[1;33m\u001b[0m\u001b[1;33m\u001b[0m\u001b[0m\n",
      "\u001b[1;32m<ipython-input-196-ecd77e184fe1>\u001b[0m in \u001b[0;36mparameters_error_and_corr\u001b[1;34m(b, x_knots, KEs, dist, b0, theta)\u001b[0m\n\u001b[0;32m      4\u001b[0m     \u001b[0mtime0\u001b[0m \u001b[1;33m=\u001b[0m \u001b[0mnp\u001b[0m\u001b[1;33m.\u001b[0m\u001b[0marray\u001b[0m\u001b[1;33m(\u001b[0m\u001b[1;33m[\u001b[0m\u001b[0mT\u001b[0m\u001b[1;33m(\u001b[0m\u001b[0mx\u001b[0m\u001b[1;33m,\u001b[0m \u001b[0mx_knots\u001b[0m\u001b[1;33m,\u001b[0m \u001b[0mb0\u001b[0m\u001b[1;33m)\u001b[0m \u001b[1;32mfor\u001b[0m \u001b[0mx\u001b[0m \u001b[1;32min\u001b[0m \u001b[0mKEs\u001b[0m\u001b[1;33m]\u001b[0m\u001b[1;33m)\u001b[0m\u001b[1;33m\u001b[0m\u001b[1;33m\u001b[0m\u001b[0m\n\u001b[0;32m      5\u001b[0m     \u001b[0mtime\u001b[0m \u001b[1;33m=\u001b[0m \u001b[0mtime\u001b[0m\u001b[1;33m*\u001b[0m\u001b[0mnp\u001b[0m\u001b[1;33m.\u001b[0m\u001b[0msum\u001b[0m\u001b[1;33m(\u001b[0m\u001b[0mtime0\u001b[0m\u001b[1;33m)\u001b[0m\u001b[1;33m/\u001b[0m \u001b[0mnp\u001b[0m\u001b[1;33m.\u001b[0m\u001b[0msum\u001b[0m\u001b[1;33m(\u001b[0m\u001b[0mtime\u001b[0m\u001b[1;33m)\u001b[0m\u001b[1;33m\u001b[0m\u001b[1;33m\u001b[0m\u001b[0m\n\u001b[1;32m----> 6\u001b[1;33m     \u001b[0my\u001b[0m \u001b[1;33m=\u001b[0m \u001b[0mnp\u001b[0m\u001b[1;33m.\u001b[0m\u001b[0mrandom\u001b[0m\u001b[1;33m.\u001b[0m\u001b[0mpoisson\u001b[0m\u001b[1;33m(\u001b[0m\u001b[0mdist\u001b[0m\u001b[1;33m*\u001b[0m\u001b[0mtime\u001b[0m\u001b[1;33m)\u001b[0m\u001b[1;33m/\u001b[0m\u001b[0mtime\u001b[0m\u001b[1;33m\u001b[0m\u001b[1;33m\u001b[0m\u001b[0m\n\u001b[0m\u001b[0;32m      7\u001b[0m     popt, pcov = optimize.curve_fit(f = experiment, xdata= KEs, ydata=y,\n\u001b[0;32m      8\u001b[0m                                     \u001b[0mp0\u001b[0m \u001b[1;33m=\u001b[0m \u001b[1;33m[\u001b[0m\u001b[0mm\u001b[0m\u001b[1;33m,\u001b[0m \u001b[0mnoise\u001b[0m\u001b[1;33m,\u001b[0m \u001b[0mcalibr\u001b[0m\u001b[1;33m,\u001b[0m \u001b[0mmax_energy\u001b[0m\u001b[1;33m,\u001b[0m \u001b[0mU\u001b[0m\u001b[1;33m,\u001b[0m \u001b[0mlin\u001b[0m\u001b[1;33m]\u001b[0m\u001b[1;33m,\u001b[0m \u001b[0msigma\u001b[0m\u001b[1;33m=\u001b[0m\u001b[0mnp\u001b[0m\u001b[1;33m.\u001b[0m\u001b[0msqrt\u001b[0m\u001b[1;33m(\u001b[0m\u001b[0mdist\u001b[0m\u001b[1;33m*\u001b[0m\u001b[0mtime\u001b[0m\u001b[1;33m)\u001b[0m\u001b[1;33m/\u001b[0m\u001b[0mtime\u001b[0m\u001b[1;33m,\u001b[0m \u001b[0mabsolute_sigma\u001b[0m\u001b[1;33m=\u001b[0m\u001b[1;32mTrue\u001b[0m\u001b[1;33m,\u001b[0m\u001b[1;33m\u001b[0m\u001b[1;33m\u001b[0m\u001b[0m\n",
      "\u001b[1;32mmtrand.pyx\u001b[0m in \u001b[0;36mnumpy.random.mtrand.RandomState.poisson\u001b[1;34m()\u001b[0m\n",
      "\u001b[1;32m_common.pyx\u001b[0m in \u001b[0;36mnumpy.random._common.disc\u001b[1;34m()\u001b[0m\n",
      "\u001b[1;32m_common.pyx\u001b[0m in \u001b[0;36mnumpy.random._common.discrete_broadcast_d\u001b[1;34m()\u001b[0m\n",
      "\u001b[1;32m_common.pyx\u001b[0m in \u001b[0;36mnumpy.random._common.check_array_constraint\u001b[1;34m()\u001b[0m\n",
      "\u001b[1;31mValueError\u001b[0m: lam value too large"
     ]
    }
   ],
   "source": [
    "theta = np.array([m, 1, 1, max_energy, U, lin])\n",
    "popt, sigmas, corr = parameters_error_and_corr(b0, x_knots, KEs, dist, b0, theta)\n",
    "popt, sigmas, corr"
   ]
  },
  {
   "cell_type": "code",
   "execution_count": 101,
   "metadata": {},
   "outputs": [
    {
     "data": {
      "text/plain": [
       "[<matplotlib.lines.Line2D at 0x18c6391dac0>]"
      ]
     },
     "execution_count": 101,
     "metadata": {},
     "output_type": "execute_result"
    },
    {
     "data": {
      "image/png": "[encoded data removed]",
      "text/plain": [
       "<Figure size 432x288 with 1 Axes>"
      ]
     },
     "metadata": {
      "needs_background": "light"
     },
     "output_type": "display_data"
    }
   ],
   "source": [
    "plt.plot(KEs, intensity(KEs, max_energy, m, U, lin))\n",
    "plt.plot(KEs, experiment(KEs, *popt))"
   ]
  },
  {
   "cell_type": "code",
   "execution_count": 66,
   "metadata": {},
   "outputs": [
    {
     "data": {
      "text/plain": [
       "0.6975833591246634"
      ]
     },
     "execution_count": 66,
     "metadata": {},
     "output_type": "execute_result"
    }
   ],
   "source": [
    "inversed_fisher_information(b0, x_knots, derivatives, KEs, dist)/inversed_fisher_information(bo, x_knots, derivatives, KEs, dist)"
   ]
  },
  {
   "cell_type": "code",
   "execution_count": 41,
   "metadata": {},
   "outputs": [],
   "source": [
    "bo = [3.44899946, 0.        , 0.        , 0.        , 0.        ,\n",
    "       1.31942577, 1.37361597, 0.        , 0.        , 0.36451806]"
   ]
  },
  {
   "cell_type": "code",
   "execution_count": null,
   "metadata": {},
   "outputs": [],
   "source": []
  }
 ],
 "metadata": {
  "kernelspec": {
   "display_name": "Python 3",
   "language": "python",
   "name": "python3"
  },
  "language_info": {
   "codemirror_mode": {
    "name": "ipython",
    "version": 3
   },
   "file_extension": ".py",
   "mimetype": "text/x-python",
   "name": "python",
   "nbconvert_exporter": "python",
   "pygments_lexer": "ipython3",
   "version": "3.8.3"
  }
 },
 "nbformat": 4,
 "nbformat_minor": 4
}
